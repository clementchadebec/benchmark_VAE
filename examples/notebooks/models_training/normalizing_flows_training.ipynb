{
 "cells": [
  {
   "cell_type": "code",
   "execution_count": null,
   "metadata": {},
   "outputs": [],
   "source": [
    "# Install the library\n",
    "%pip install pythae"
   ]
  },
  {
   "cell_type": "code",
   "execution_count": 5,
   "metadata": {},
   "outputs": [
    {
     "name": "stdout",
     "output_type": "stream",
     "text": [
      "The autoreload extension is already loaded. To reload it, use:\n",
      "  %reload_ext autoreload\n"
     ]
    }
   ],
   "source": [
    "import numpy as np\n",
    "import matplotlib.pyplot as plt\n",
    "%matplotlib inline\n",
    "\n",
    "import torch\n",
    "from torch.distributions import MultivariateNormal\n",
    "\n",
    "%load_ext autoreload\n",
    "%autoreload 2\n",
    "\n",
    "device = \"cuda\" if torch.cuda.is_available() else \"cpu\""
   ]
  },
  {
   "cell_type": "code",
   "execution_count": 6,
   "metadata": {},
   "outputs": [],
   "source": [
    "from sklearn import datasets\n",
    "from pythae.data.datasets import BaseDataset\n",
    "\n",
    "train_moons = torch.from_numpy(datasets.make_moons(n_samples=10000, noise=0.05)[0].astype(np.float32))\n",
    "eval_moons = torch.from_numpy(datasets.make_moons(n_samples=1000, noise=0.05)[0].astype(np.float32))"
   ]
  },
  {
   "cell_type": "code",
   "execution_count": 7,
   "metadata": {},
   "outputs": [],
   "source": [
    "from pythae.models.normalizing_flows import MAFConfig, MAF, NFModel, IAF, IAFConfig\n",
    "\n",
    "prior = MultivariateNormal(torch.zeros(2).to(device), torch.eye(2).to(device))\n",
    "\n",
    "conf = MAFConfig(input_dim=(2,), n_hidden_in_made=3, hidden_size=24, n_blocks=4, include_batch_norm=False)\n",
    "flow = MAF(conf)\n",
    "\n",
    "#conf = IAFConfig(input_dim=(2,), n_hidden_in_made=3, hidden_size=24, n_blocks=2, include_batch_norm=False)\n",
    "#flow = IAF(conf)\n",
    "\n",
    "\n",
    "contained_flow = NFModel(prior, flow)"
   ]
  },
  {
   "cell_type": "code",
   "execution_count": 8,
   "metadata": {},
   "outputs": [],
   "source": [
    "from pythae.trainers import BaseTrainerConfig\n",
    "from pythae.pipelines import TrainingPipeline\n",
    "\n",
    "\n",
    "train_config = BaseTrainerConfig(num_epochs=50, learning_rate=1e-3)\n",
    "pipeline = TrainingPipeline(model=contained_flow, training_config=train_config)"
   ]
  },
  {
   "cell_type": "code",
   "execution_count": 9,
   "metadata": {},
   "outputs": [
    {
     "name": "stderr",
     "output_type": "stream",
     "text": [
      "Preprocessing train data...\n",
      "Checking train dataset...\n",
      "Preprocessing eval data...\n",
      "\n",
      "Checking eval dataset...\n",
      "Using Base Trainer\n",
      "\n",
      "Model passed sanity check !\n",
      "\n",
      "Created dummy_output_dir/MAF_training_2022-10-11_17-30-56. \n",
      "Training config, checkpoints and final model will be saved here.\n",
      "\n",
      "Successfully launched training !\n",
      "\n"
     ]
    },
    {
     "data": {
      "application/vnd.jupyter.widget-view+json": {
       "model_id": "35d4e586f3d04d30bfdee4dcd39b47ec",
       "version_major": 2,
       "version_minor": 0
      },
      "text/plain": [
       "Training of epoch 1/50:   0%|          | 0/100 [00:00<?, ?batch/s]"
      ]
     },
     "metadata": {},
     "output_type": "display_data"
    },
    {
     "data": {
      "application/vnd.jupyter.widget-view+json": {
       "model_id": "2e56fab1926d4a1e9b8ab5c5d358bbc7",
       "version_major": 2,
       "version_minor": 0
      },
      "text/plain": [
       "Eval of epoch 1/50:   0%|          | 0/10 [00:00<?, ?batch/s]"
      ]
     },
     "metadata": {},
     "output_type": "display_data"
    },
    {
     "name": "stderr",
     "output_type": "stream",
     "text": [
      "--------------------------------------------------------------------------\n",
      "Train loss: 184.328\n",
      "Eval loss: 161.8518\n",
      "--------------------------------------------------------------------------\n"
     ]
    },
    {
     "data": {
      "application/vnd.jupyter.widget-view+json": {
       "model_id": "a69d940f4dc34ee8aec0fbaaaa965f49",
       "version_major": 2,
       "version_minor": 0
      },
      "text/plain": [
       "Training of epoch 2/50:   0%|          | 0/100 [00:00<?, ?batch/s]"
      ]
     },
     "metadata": {},
     "output_type": "display_data"
    },
    {
     "data": {
      "application/vnd.jupyter.widget-view+json": {
       "model_id": "c5710de309a846e5be5af97ff8f875fc",
       "version_major": 2,
       "version_minor": 0
      },
      "text/plain": [
       "Eval of epoch 2/50:   0%|          | 0/10 [00:00<?, ?batch/s]"
      ]
     },
     "metadata": {},
     "output_type": "display_data"
    },
    {
     "name": "stderr",
     "output_type": "stream",
     "text": [
      "--------------------------------------------------------------------------\n",
      "Train loss: 152.1601\n",
      "Eval loss: 146.8646\n",
      "--------------------------------------------------------------------------\n"
     ]
    },
    {
     "data": {
      "application/vnd.jupyter.widget-view+json": {
       "model_id": "fa1506b62f7547c3a699abe9bcaabb90",
       "version_major": 2,
       "version_minor": 0
      },
      "text/plain": [
       "Training of epoch 3/50:   0%|          | 0/100 [00:00<?, ?batch/s]"
      ]
     },
     "metadata": {},
     "output_type": "display_data"
    },
    {
     "data": {
      "application/vnd.jupyter.widget-view+json": {
       "model_id": "a1718634cf304de28f2232c03efd8002",
       "version_major": 2,
       "version_minor": 0
      },
      "text/plain": [
       "Eval of epoch 3/50:   0%|          | 0/10 [00:00<?, ?batch/s]"
      ]
     },
     "metadata": {},
     "output_type": "display_data"
    },
    {
     "name": "stderr",
     "output_type": "stream",
     "text": [
      "--------------------------------------------------------------------------\n",
      "Train loss: 132.7612\n",
      "Eval loss: 123.2201\n",
      "--------------------------------------------------------------------------\n"
     ]
    },
    {
     "data": {
      "application/vnd.jupyter.widget-view+json": {
       "model_id": "c17a4c2a79444b6c917818eae2fa7463",
       "version_major": 2,
       "version_minor": 0
      },
      "text/plain": [
       "Training of epoch 4/50:   0%|          | 0/100 [00:00<?, ?batch/s]"
      ]
     },
     "metadata": {},
     "output_type": "display_data"
    },
    {
     "data": {
      "application/vnd.jupyter.widget-view+json": {
       "model_id": "ab48ccdd2e824497bf2ac6e96ad4554b",
       "version_major": 2,
       "version_minor": 0
      },
      "text/plain": [
       "Eval of epoch 4/50:   0%|          | 0/10 [00:00<?, ?batch/s]"
      ]
     },
     "metadata": {},
     "output_type": "display_data"
    },
    {
     "name": "stderr",
     "output_type": "stream",
     "text": [
      "--------------------------------------------------------------------------\n",
      "Train loss: 114.7159\n",
      "Eval loss: 100.2041\n",
      "--------------------------------------------------------------------------\n"
     ]
    },
    {
     "data": {
      "application/vnd.jupyter.widget-view+json": {
       "model_id": "cb4bfba783924c8a96d7033d01c53bca",
       "version_major": 2,
       "version_minor": 0
      },
      "text/plain": [
       "Training of epoch 5/50:   0%|          | 0/100 [00:00<?, ?batch/s]"
      ]
     },
     "metadata": {},
     "output_type": "display_data"
    },
    {
     "data": {
      "application/vnd.jupyter.widget-view+json": {
       "model_id": "1e2e99acba5e40749ef08e0b2c2cebda",
       "version_major": 2,
       "version_minor": 0
      },
      "text/plain": [
       "Eval of epoch 5/50:   0%|          | 0/10 [00:00<?, ?batch/s]"
      ]
     },
     "metadata": {},
     "output_type": "display_data"
    },
    {
     "name": "stderr",
     "output_type": "stream",
     "text": [
      "--------------------------------------------------------------------------\n",
      "Train loss: 110.5958\n",
      "Eval loss: 101.2492\n",
      "--------------------------------------------------------------------------\n"
     ]
    },
    {
     "data": {
      "application/vnd.jupyter.widget-view+json": {
       "model_id": "29c8647ba38b42c0bf7ca05460ae6846",
       "version_major": 2,
       "version_minor": 0
      },
      "text/plain": [
       "Training of epoch 6/50:   0%|          | 0/100 [00:00<?, ?batch/s]"
      ]
     },
     "metadata": {},
     "output_type": "display_data"
    },
    {
     "data": {
      "application/vnd.jupyter.widget-view+json": {
       "model_id": "f00fd8484491471c9d5bf814f0df3576",
       "version_major": 2,
       "version_minor": 0
      },
      "text/plain": [
       "Eval of epoch 6/50:   0%|          | 0/10 [00:00<?, ?batch/s]"
      ]
     },
     "metadata": {},
     "output_type": "display_data"
    },
    {
     "name": "stderr",
     "output_type": "stream",
     "text": [
      "--------------------------------------------------------------------------\n",
      "Train loss: 89.4724\n",
      "Eval loss: 78.5732\n",
      "--------------------------------------------------------------------------\n"
     ]
    },
    {
     "data": {
      "application/vnd.jupyter.widget-view+json": {
       "model_id": "0f5158edc9164449b5a87682868c1bef",
       "version_major": 2,
       "version_minor": 0
      },
      "text/plain": [
       "Training of epoch 7/50:   0%|          | 0/100 [00:00<?, ?batch/s]"
      ]
     },
     "metadata": {},
     "output_type": "display_data"
    },
    {
     "data": {
      "application/vnd.jupyter.widget-view+json": {
       "model_id": "3e3f8307b13246479ff5dc355f327492",
       "version_major": 2,
       "version_minor": 0
      },
      "text/plain": [
       "Eval of epoch 7/50:   0%|          | 0/10 [00:00<?, ?batch/s]"
      ]
     },
     "metadata": {},
     "output_type": "display_data"
    },
    {
     "name": "stderr",
     "output_type": "stream",
     "text": [
      "--------------------------------------------------------------------------\n",
      "Train loss: 73.8978\n",
      "Eval loss: 60.217\n",
      "--------------------------------------------------------------------------\n"
     ]
    },
    {
     "data": {
      "application/vnd.jupyter.widget-view+json": {
       "model_id": "558ec75df84245e088237ea2d21ee291",
       "version_major": 2,
       "version_minor": 0
      },
      "text/plain": [
       "Training of epoch 8/50:   0%|          | 0/100 [00:00<?, ?batch/s]"
      ]
     },
     "metadata": {},
     "output_type": "display_data"
    },
    {
     "data": {
      "application/vnd.jupyter.widget-view+json": {
       "model_id": "f22eab113d8a459d82479ee0c3ec0c93",
       "version_major": 2,
       "version_minor": 0
      },
      "text/plain": [
       "Eval of epoch 8/50:   0%|          | 0/10 [00:00<?, ?batch/s]"
      ]
     },
     "metadata": {},
     "output_type": "display_data"
    },
    {
     "name": "stderr",
     "output_type": "stream",
     "text": [
      "--------------------------------------------------------------------------\n",
      "Train loss: 64.3036\n",
      "Eval loss: 59.2912\n",
      "--------------------------------------------------------------------------\n"
     ]
    },
    {
     "data": {
      "application/vnd.jupyter.widget-view+json": {
       "model_id": "c54c1453786d48d68213ce0fb50ba8f0",
       "version_major": 2,
       "version_minor": 0
      },
      "text/plain": [
       "Training of epoch 9/50:   0%|          | 0/100 [00:00<?, ?batch/s]"
      ]
     },
     "metadata": {},
     "output_type": "display_data"
    },
    {
     "data": {
      "application/vnd.jupyter.widget-view+json": {
       "model_id": "29572661c7394b63b380b1429952e9de",
       "version_major": 2,
       "version_minor": 0
      },
      "text/plain": [
       "Eval of epoch 9/50:   0%|          | 0/10 [00:00<?, ?batch/s]"
      ]
     },
     "metadata": {},
     "output_type": "display_data"
    },
    {
     "name": "stderr",
     "output_type": "stream",
     "text": [
      "--------------------------------------------------------------------------\n",
      "Train loss: 58.2209\n",
      "Eval loss: 53.6635\n",
      "--------------------------------------------------------------------------\n"
     ]
    },
    {
     "data": {
      "application/vnd.jupyter.widget-view+json": {
       "model_id": "cad47a11594b4a5e8803dd4ffd099048",
       "version_major": 2,
       "version_minor": 0
      },
      "text/plain": [
       "Training of epoch 10/50:   0%|          | 0/100 [00:00<?, ?batch/s]"
      ]
     },
     "metadata": {},
     "output_type": "display_data"
    },
    {
     "data": {
      "application/vnd.jupyter.widget-view+json": {
       "model_id": "6695951f75534b359964a98deacb1a5d",
       "version_major": 2,
       "version_minor": 0
      },
      "text/plain": [
       "Eval of epoch 10/50:   0%|          | 0/10 [00:00<?, ?batch/s]"
      ]
     },
     "metadata": {},
     "output_type": "display_data"
    },
    {
     "name": "stderr",
     "output_type": "stream",
     "text": [
      "--------------------------------------------------------------------------\n",
      "Train loss: 57.1512\n",
      "Eval loss: 56.1623\n",
      "--------------------------------------------------------------------------\n"
     ]
    },
    {
     "data": {
      "application/vnd.jupyter.widget-view+json": {
       "model_id": "d460714d9be8415daff0f166a4b1fa9f",
       "version_major": 2,
       "version_minor": 0
      },
      "text/plain": [
       "Training of epoch 11/50:   0%|          | 0/100 [00:00<?, ?batch/s]"
      ]
     },
     "metadata": {},
     "output_type": "display_data"
    },
    {
     "data": {
      "application/vnd.jupyter.widget-view+json": {
       "model_id": "1090dd186add44c78dccfdf35f6ca526",
       "version_major": 2,
       "version_minor": 0
      },
      "text/plain": [
       "Eval of epoch 11/50:   0%|          | 0/10 [00:00<?, ?batch/s]"
      ]
     },
     "metadata": {},
     "output_type": "display_data"
    },
    {
     "name": "stderr",
     "output_type": "stream",
     "text": [
      "--------------------------------------------------------------------------\n",
      "Train loss: 56.963\n",
      "Eval loss: 56.4587\n",
      "--------------------------------------------------------------------------\n"
     ]
    },
    {
     "data": {
      "application/vnd.jupyter.widget-view+json": {
       "model_id": "95a336f683cb468cb0c030b6abd16289",
       "version_major": 2,
       "version_minor": 0
      },
      "text/plain": [
       "Training of epoch 12/50:   0%|          | 0/100 [00:00<?, ?batch/s]"
      ]
     },
     "metadata": {},
     "output_type": "display_data"
    },
    {
     "data": {
      "application/vnd.jupyter.widget-view+json": {
       "model_id": "833c80b1d948408a95680dc9a11114d6",
       "version_major": 2,
       "version_minor": 0
      },
      "text/plain": [
       "Eval of epoch 12/50:   0%|          | 0/10 [00:00<?, ?batch/s]"
      ]
     },
     "metadata": {},
     "output_type": "display_data"
    },
    {
     "name": "stderr",
     "output_type": "stream",
     "text": [
      "--------------------------------------------------------------------------\n",
      "Train loss: 54.9752\n",
      "Eval loss: 50.3529\n",
      "--------------------------------------------------------------------------\n"
     ]
    },
    {
     "data": {
      "application/vnd.jupyter.widget-view+json": {
       "model_id": "e6001303199545bf9307d492e9777894",
       "version_major": 2,
       "version_minor": 0
      },
      "text/plain": [
       "Training of epoch 13/50:   0%|          | 0/100 [00:00<?, ?batch/s]"
      ]
     },
     "metadata": {},
     "output_type": "display_data"
    },
    {
     "data": {
      "application/vnd.jupyter.widget-view+json": {
       "model_id": "dc531aadb338442e9e0d5357a79e4e32",
       "version_major": 2,
       "version_minor": 0
      },
      "text/plain": [
       "Eval of epoch 13/50:   0%|          | 0/10 [00:00<?, ?batch/s]"
      ]
     },
     "metadata": {},
     "output_type": "display_data"
    },
    {
     "name": "stderr",
     "output_type": "stream",
     "text": [
      "--------------------------------------------------------------------------\n",
      "Train loss: 50.3636\n",
      "Eval loss: 44.0703\n",
      "--------------------------------------------------------------------------\n"
     ]
    },
    {
     "data": {
      "application/vnd.jupyter.widget-view+json": {
       "model_id": "bd784ca3ecbf44a19d855ba4d8c23e7a",
       "version_major": 2,
       "version_minor": 0
      },
      "text/plain": [
       "Training of epoch 14/50:   0%|          | 0/100 [00:00<?, ?batch/s]"
      ]
     },
     "metadata": {},
     "output_type": "display_data"
    },
    {
     "data": {
      "application/vnd.jupyter.widget-view+json": {
       "model_id": "f803f4ec04984e0c9d46e0b1a84715cd",
       "version_major": 2,
       "version_minor": 0
      },
      "text/plain": [
       "Eval of epoch 14/50:   0%|          | 0/10 [00:00<?, ?batch/s]"
      ]
     },
     "metadata": {},
     "output_type": "display_data"
    },
    {
     "name": "stderr",
     "output_type": "stream",
     "text": [
      "--------------------------------------------------------------------------\n",
      "Train loss: 49.1614\n",
      "Eval loss: 46.4413\n",
      "--------------------------------------------------------------------------\n"
     ]
    },
    {
     "data": {
      "application/vnd.jupyter.widget-view+json": {
       "model_id": "ea4317c004484e2dbc51bdd7c8422084",
       "version_major": 2,
       "version_minor": 0
      },
      "text/plain": [
       "Training of epoch 15/50:   0%|          | 0/100 [00:00<?, ?batch/s]"
      ]
     },
     "metadata": {},
     "output_type": "display_data"
    },
    {
     "data": {
      "application/vnd.jupyter.widget-view+json": {
       "model_id": "c0f3aaf626e0443e961b412025355cae",
       "version_major": 2,
       "version_minor": 0
      },
      "text/plain": [
       "Eval of epoch 15/50:   0%|          | 0/10 [00:00<?, ?batch/s]"
      ]
     },
     "metadata": {},
     "output_type": "display_data"
    },
    {
     "name": "stderr",
     "output_type": "stream",
     "text": [
      "--------------------------------------------------------------------------\n",
      "Train loss: 47.4819\n",
      "Eval loss: 44.7632\n",
      "--------------------------------------------------------------------------\n"
     ]
    },
    {
     "data": {
      "application/vnd.jupyter.widget-view+json": {
       "model_id": "ee35897cd2fd4af198b8ecb5731418ef",
       "version_major": 2,
       "version_minor": 0
      },
      "text/plain": [
       "Training of epoch 16/50:   0%|          | 0/100 [00:00<?, ?batch/s]"
      ]
     },
     "metadata": {},
     "output_type": "display_data"
    },
    {
     "data": {
      "application/vnd.jupyter.widget-view+json": {
       "model_id": "9197fa62a15e47e893ed8e173ea365f2",
       "version_major": 2,
       "version_minor": 0
      },
      "text/plain": [
       "Eval of epoch 16/50:   0%|          | 0/10 [00:00<?, ?batch/s]"
      ]
     },
     "metadata": {},
     "output_type": "display_data"
    },
    {
     "name": "stderr",
     "output_type": "stream",
     "text": [
      "--------------------------------------------------------------------------\n",
      "Train loss: 47.0086\n",
      "Eval loss: 44.9806\n",
      "--------------------------------------------------------------------------\n"
     ]
    },
    {
     "data": {
      "application/vnd.jupyter.widget-view+json": {
       "model_id": "12829758c3864403a794966b4849785f",
       "version_major": 2,
       "version_minor": 0
      },
      "text/plain": [
       "Training of epoch 17/50:   0%|          | 0/100 [00:00<?, ?batch/s]"
      ]
     },
     "metadata": {},
     "output_type": "display_data"
    },
    {
     "data": {
      "application/vnd.jupyter.widget-view+json": {
       "model_id": "2e651b1b0437419e87bbfc7148c1902b",
       "version_major": 2,
       "version_minor": 0
      },
      "text/plain": [
       "Eval of epoch 17/50:   0%|          | 0/10 [00:00<?, ?batch/s]"
      ]
     },
     "metadata": {},
     "output_type": "display_data"
    },
    {
     "name": "stderr",
     "output_type": "stream",
     "text": [
      "--------------------------------------------------------------------------\n",
      "Train loss: 46.9667\n",
      "Eval loss: 44.1112\n",
      "--------------------------------------------------------------------------\n"
     ]
    },
    {
     "data": {
      "application/vnd.jupyter.widget-view+json": {
       "model_id": "ed2ce98073d04c258ebb6f8368bcc18a",
       "version_major": 2,
       "version_minor": 0
      },
      "text/plain": [
       "Training of epoch 18/50:   0%|          | 0/100 [00:00<?, ?batch/s]"
      ]
     },
     "metadata": {},
     "output_type": "display_data"
    },
    {
     "data": {
      "application/vnd.jupyter.widget-view+json": {
       "model_id": "63689ae4e99447deb9ec395d62ff7d9e",
       "version_major": 2,
       "version_minor": 0
      },
      "text/plain": [
       "Eval of epoch 18/50:   0%|          | 0/10 [00:00<?, ?batch/s]"
      ]
     },
     "metadata": {},
     "output_type": "display_data"
    },
    {
     "name": "stderr",
     "output_type": "stream",
     "text": [
      "--------------------------------------------------------------------------\n",
      "Train loss: 45.0875\n",
      "Eval loss: 38.6945\n",
      "--------------------------------------------------------------------------\n"
     ]
    },
    {
     "data": {
      "application/vnd.jupyter.widget-view+json": {
       "model_id": "0c137ff4672045d9b2b821914eed3dd7",
       "version_major": 2,
       "version_minor": 0
      },
      "text/plain": [
       "Training of epoch 19/50:   0%|          | 0/100 [00:00<?, ?batch/s]"
      ]
     },
     "metadata": {},
     "output_type": "display_data"
    },
    {
     "data": {
      "application/vnd.jupyter.widget-view+json": {
       "model_id": "2816ec6bcf084714bbd9bfe2e54bad35",
       "version_major": 2,
       "version_minor": 0
      },
      "text/plain": [
       "Eval of epoch 19/50:   0%|          | 0/10 [00:00<?, ?batch/s]"
      ]
     },
     "metadata": {},
     "output_type": "display_data"
    },
    {
     "name": "stderr",
     "output_type": "stream",
     "text": [
      "--------------------------------------------------------------------------\n",
      "Train loss: 44.0051\n",
      "Eval loss: 38.5322\n",
      "--------------------------------------------------------------------------\n"
     ]
    },
    {
     "data": {
      "application/vnd.jupyter.widget-view+json": {
       "model_id": "7763c1f75ce5423881955c4872627e1b",
       "version_major": 2,
       "version_minor": 0
      },
      "text/plain": [
       "Training of epoch 20/50:   0%|          | 0/100 [00:00<?, ?batch/s]"
      ]
     },
     "metadata": {},
     "output_type": "display_data"
    },
    {
     "data": {
      "application/vnd.jupyter.widget-view+json": {
       "model_id": "f6589e54f715487b9a03f48a417b0e8b",
       "version_major": 2,
       "version_minor": 0
      },
      "text/plain": [
       "Eval of epoch 20/50:   0%|          | 0/10 [00:00<?, ?batch/s]"
      ]
     },
     "metadata": {},
     "output_type": "display_data"
    },
    {
     "name": "stderr",
     "output_type": "stream",
     "text": [
      "--------------------------------------------------------------------------\n",
      "Train loss: 44.6618\n",
      "Eval loss: 42.3022\n",
      "--------------------------------------------------------------------------\n"
     ]
    },
    {
     "data": {
      "application/vnd.jupyter.widget-view+json": {
       "model_id": "6ef26d0e53fa4e21b88b4150eb0c6138",
       "version_major": 2,
       "version_minor": 0
      },
      "text/plain": [
       "Training of epoch 21/50:   0%|          | 0/100 [00:00<?, ?batch/s]"
      ]
     },
     "metadata": {},
     "output_type": "display_data"
    },
    {
     "data": {
      "application/vnd.jupyter.widget-view+json": {
       "model_id": "8d2f2ad7850840aaa4ab8e964f143dd5",
       "version_major": 2,
       "version_minor": 0
      },
      "text/plain": [
       "Eval of epoch 21/50:   0%|          | 0/10 [00:00<?, ?batch/s]"
      ]
     },
     "metadata": {},
     "output_type": "display_data"
    },
    {
     "name": "stderr",
     "output_type": "stream",
     "text": [
      "--------------------------------------------------------------------------\n",
      "Train loss: 43.1473\n",
      "Eval loss: 40.0984\n",
      "--------------------------------------------------------------------------\n"
     ]
    },
    {
     "data": {
      "application/vnd.jupyter.widget-view+json": {
       "model_id": "640fe5e144a945d7a7eeb39e19b2fd8d",
       "version_major": 2,
       "version_minor": 0
      },
      "text/plain": [
       "Training of epoch 22/50:   0%|          | 0/100 [00:00<?, ?batch/s]"
      ]
     },
     "metadata": {},
     "output_type": "display_data"
    },
    {
     "data": {
      "application/vnd.jupyter.widget-view+json": {
       "model_id": "86deacc7961146828cdab7f69d8f7c65",
       "version_major": 2,
       "version_minor": 0
      },
      "text/plain": [
       "Eval of epoch 22/50:   0%|          | 0/10 [00:00<?, ?batch/s]"
      ]
     },
     "metadata": {},
     "output_type": "display_data"
    },
    {
     "name": "stderr",
     "output_type": "stream",
     "text": [
      "--------------------------------------------------------------------------\n",
      "Train loss: 44.6584\n",
      "Eval loss: 39.8881\n",
      "--------------------------------------------------------------------------\n"
     ]
    },
    {
     "data": {
      "application/vnd.jupyter.widget-view+json": {
       "model_id": "17f4c46492374dc69bc3b4e88036d233",
       "version_major": 2,
       "version_minor": 0
      },
      "text/plain": [
       "Training of epoch 23/50:   0%|          | 0/100 [00:00<?, ?batch/s]"
      ]
     },
     "metadata": {},
     "output_type": "display_data"
    },
    {
     "data": {
      "application/vnd.jupyter.widget-view+json": {
       "model_id": "cb363f2558144ebf8ca6377b220eaca6",
       "version_major": 2,
       "version_minor": 0
      },
      "text/plain": [
       "Eval of epoch 23/50:   0%|          | 0/10 [00:00<?, ?batch/s]"
      ]
     },
     "metadata": {},
     "output_type": "display_data"
    },
    {
     "name": "stderr",
     "output_type": "stream",
     "text": [
      "--------------------------------------------------------------------------\n",
      "Train loss: 45.5855\n",
      "Eval loss: 37.6275\n",
      "--------------------------------------------------------------------------\n"
     ]
    },
    {
     "data": {
      "application/vnd.jupyter.widget-view+json": {
       "model_id": "0640e09e33be4373a0dc299c2e0fd9c4",
       "version_major": 2,
       "version_minor": 0
      },
      "text/plain": [
       "Training of epoch 24/50:   0%|          | 0/100 [00:00<?, ?batch/s]"
      ]
     },
     "metadata": {},
     "output_type": "display_data"
    },
    {
     "data": {
      "application/vnd.jupyter.widget-view+json": {
       "model_id": "2758b9f04e7340878b003b88dc95ce94",
       "version_major": 2,
       "version_minor": 0
      },
      "text/plain": [
       "Eval of epoch 24/50:   0%|          | 0/10 [00:00<?, ?batch/s]"
      ]
     },
     "metadata": {},
     "output_type": "display_data"
    },
    {
     "name": "stderr",
     "output_type": "stream",
     "text": [
      "--------------------------------------------------------------------------\n",
      "Train loss: 44.3301\n",
      "Eval loss: 42.4146\n",
      "--------------------------------------------------------------------------\n"
     ]
    },
    {
     "data": {
      "application/vnd.jupyter.widget-view+json": {
       "model_id": "1dca223973b8481cabe986e461153db5",
       "version_major": 2,
       "version_minor": 0
      },
      "text/plain": [
       "Training of epoch 25/50:   0%|          | 0/100 [00:00<?, ?batch/s]"
      ]
     },
     "metadata": {},
     "output_type": "display_data"
    },
    {
     "data": {
      "application/vnd.jupyter.widget-view+json": {
       "model_id": "7a388a41de5e44548cf661e4ffeffa67",
       "version_major": 2,
       "version_minor": 0
      },
      "text/plain": [
       "Eval of epoch 25/50:   0%|          | 0/10 [00:00<?, ?batch/s]"
      ]
     },
     "metadata": {},
     "output_type": "display_data"
    },
    {
     "name": "stderr",
     "output_type": "stream",
     "text": [
      "--------------------------------------------------------------------------\n",
      "Train loss: 43.6667\n",
      "Eval loss: 40.0082\n",
      "--------------------------------------------------------------------------\n"
     ]
    },
    {
     "data": {
      "application/vnd.jupyter.widget-view+json": {
       "model_id": "a1775308900c47dda2110bdb42c891e9",
       "version_major": 2,
       "version_minor": 0
      },
      "text/plain": [
       "Training of epoch 26/50:   0%|          | 0/100 [00:00<?, ?batch/s]"
      ]
     },
     "metadata": {},
     "output_type": "display_data"
    },
    {
     "data": {
      "application/vnd.jupyter.widget-view+json": {
       "model_id": "9175f4f8d6b941029b817d667e6977b0",
       "version_major": 2,
       "version_minor": 0
      },
      "text/plain": [
       "Eval of epoch 26/50:   0%|          | 0/10 [00:00<?, ?batch/s]"
      ]
     },
     "metadata": {},
     "output_type": "display_data"
    },
    {
     "name": "stderr",
     "output_type": "stream",
     "text": [
      "--------------------------------------------------------------------------\n",
      "Train loss: 42.445\n",
      "Eval loss: 42.7074\n",
      "--------------------------------------------------------------------------\n"
     ]
    },
    {
     "data": {
      "application/vnd.jupyter.widget-view+json": {
       "model_id": "e772c96f4cb84a83a1bd13fde8c6cd73",
       "version_major": 2,
       "version_minor": 0
      },
      "text/plain": [
       "Training of epoch 27/50:   0%|          | 0/100 [00:00<?, ?batch/s]"
      ]
     },
     "metadata": {},
     "output_type": "display_data"
    },
    {
     "data": {
      "application/vnd.jupyter.widget-view+json": {
       "model_id": "53a48baa204a47cba852bce7bb92ef13",
       "version_major": 2,
       "version_minor": 0
      },
      "text/plain": [
       "Eval of epoch 27/50:   0%|          | 0/10 [00:00<?, ?batch/s]"
      ]
     },
     "metadata": {},
     "output_type": "display_data"
    },
    {
     "name": "stderr",
     "output_type": "stream",
     "text": [
      "--------------------------------------------------------------------------\n",
      "Train loss: 44.2301\n",
      "Eval loss: 37.0219\n",
      "--------------------------------------------------------------------------\n"
     ]
    },
    {
     "data": {
      "application/vnd.jupyter.widget-view+json": {
       "model_id": "2c24edf4c2134a578851be03cfb2909f",
       "version_major": 2,
       "version_minor": 0
      },
      "text/plain": [
       "Training of epoch 28/50:   0%|          | 0/100 [00:00<?, ?batch/s]"
      ]
     },
     "metadata": {},
     "output_type": "display_data"
    },
    {
     "data": {
      "application/vnd.jupyter.widget-view+json": {
       "model_id": "a679f7c74852413893974a907c77a219",
       "version_major": 2,
       "version_minor": 0
      },
      "text/plain": [
       "Eval of epoch 28/50:   0%|          | 0/10 [00:00<?, ?batch/s]"
      ]
     },
     "metadata": {},
     "output_type": "display_data"
    },
    {
     "name": "stderr",
     "output_type": "stream",
     "text": [
      "--------------------------------------------------------------------------\n",
      "Train loss: 43.2677\n",
      "Eval loss: 42.9303\n",
      "--------------------------------------------------------------------------\n"
     ]
    },
    {
     "data": {
      "application/vnd.jupyter.widget-view+json": {
       "model_id": "1f4af8d4ce8e4ec597117e3e60162313",
       "version_major": 2,
       "version_minor": 0
      },
      "text/plain": [
       "Training of epoch 29/50:   0%|          | 0/100 [00:00<?, ?batch/s]"
      ]
     },
     "metadata": {},
     "output_type": "display_data"
    },
    {
     "data": {
      "application/vnd.jupyter.widget-view+json": {
       "model_id": "2e2ea9b74ba04ca3a03552092cca848e",
       "version_major": 2,
       "version_minor": 0
      },
      "text/plain": [
       "Eval of epoch 29/50:   0%|          | 0/10 [00:00<?, ?batch/s]"
      ]
     },
     "metadata": {},
     "output_type": "display_data"
    },
    {
     "name": "stderr",
     "output_type": "stream",
     "text": [
      "--------------------------------------------------------------------------\n",
      "Train loss: 42.2071\n",
      "Eval loss: 40.9839\n",
      "--------------------------------------------------------------------------\n"
     ]
    },
    {
     "data": {
      "application/vnd.jupyter.widget-view+json": {
       "model_id": "96af73fec53a43929e71392cce9525ac",
       "version_major": 2,
       "version_minor": 0
      },
      "text/plain": [
       "Training of epoch 30/50:   0%|          | 0/100 [00:00<?, ?batch/s]"
      ]
     },
     "metadata": {},
     "output_type": "display_data"
    },
    {
     "data": {
      "application/vnd.jupyter.widget-view+json": {
       "model_id": "1485cb2105d740f385e98ea2f82e6045",
       "version_major": 2,
       "version_minor": 0
      },
      "text/plain": [
       "Eval of epoch 30/50:   0%|          | 0/10 [00:00<?, ?batch/s]"
      ]
     },
     "metadata": {},
     "output_type": "display_data"
    },
    {
     "name": "stderr",
     "output_type": "stream",
     "text": [
      "--------------------------------------------------------------------------\n",
      "Train loss: 42.8744\n",
      "Eval loss: 43.2838\n",
      "--------------------------------------------------------------------------\n"
     ]
    },
    {
     "data": {
      "application/vnd.jupyter.widget-view+json": {
       "model_id": "fef22c6e5b464b0b97f615e375a0c7e8",
       "version_major": 2,
       "version_minor": 0
      },
      "text/plain": [
       "Training of epoch 31/50:   0%|          | 0/100 [00:00<?, ?batch/s]"
      ]
     },
     "metadata": {},
     "output_type": "display_data"
    },
    {
     "data": {
      "application/vnd.jupyter.widget-view+json": {
       "model_id": "56c12153fbed42e3b6a4b120e9319a97",
       "version_major": 2,
       "version_minor": 0
      },
      "text/plain": [
       "Eval of epoch 31/50:   0%|          | 0/10 [00:00<?, ?batch/s]"
      ]
     },
     "metadata": {},
     "output_type": "display_data"
    },
    {
     "name": "stderr",
     "output_type": "stream",
     "text": [
      "--------------------------------------------------------------------------\n",
      "Train loss: 42.7862\n",
      "Eval loss: 37.937\n",
      "--------------------------------------------------------------------------\n"
     ]
    },
    {
     "data": {
      "application/vnd.jupyter.widget-view+json": {
       "model_id": "7c089546df00478693ebe5bb9431e33c",
       "version_major": 2,
       "version_minor": 0
      },
      "text/plain": [
       "Training of epoch 32/50:   0%|          | 0/100 [00:00<?, ?batch/s]"
      ]
     },
     "metadata": {},
     "output_type": "display_data"
    },
    {
     "data": {
      "application/vnd.jupyter.widget-view+json": {
       "model_id": "f7de402d89b74086a8d74a402a1cf291",
       "version_major": 2,
       "version_minor": 0
      },
      "text/plain": [
       "Eval of epoch 32/50:   0%|          | 0/10 [00:00<?, ?batch/s]"
      ]
     },
     "metadata": {},
     "output_type": "display_data"
    },
    {
     "name": "stderr",
     "output_type": "stream",
     "text": [
      "--------------------------------------------------------------------------\n",
      "Train loss: 43.1582\n",
      "Eval loss: 40.082\n",
      "--------------------------------------------------------------------------\n"
     ]
    },
    {
     "data": {
      "application/vnd.jupyter.widget-view+json": {
       "model_id": "66f0cc51af2a4a34aec2af0ecd95319b",
       "version_major": 2,
       "version_minor": 0
      },
      "text/plain": [
       "Training of epoch 33/50:   0%|          | 0/100 [00:00<?, ?batch/s]"
      ]
     },
     "metadata": {},
     "output_type": "display_data"
    },
    {
     "data": {
      "application/vnd.jupyter.widget-view+json": {
       "model_id": "27ad054517f94b4fb94d77bdbed25d7f",
       "version_major": 2,
       "version_minor": 0
      },
      "text/plain": [
       "Eval of epoch 33/50:   0%|          | 0/10 [00:00<?, ?batch/s]"
      ]
     },
     "metadata": {},
     "output_type": "display_data"
    },
    {
     "name": "stderr",
     "output_type": "stream",
     "text": [
      "--------------------------------------------------------------------------\n",
      "Train loss: 42.2759\n",
      "Eval loss: 42.197\n",
      "--------------------------------------------------------------------------\n"
     ]
    },
    {
     "data": {
      "application/vnd.jupyter.widget-view+json": {
       "model_id": "0b14c53161f24c76a366939f939c199d",
       "version_major": 2,
       "version_minor": 0
      },
      "text/plain": [
       "Training of epoch 34/50:   0%|          | 0/100 [00:00<?, ?batch/s]"
      ]
     },
     "metadata": {},
     "output_type": "display_data"
    },
    {
     "data": {
      "application/vnd.jupyter.widget-view+json": {
       "model_id": "b8071d2b324541e588282122a392ce08",
       "version_major": 2,
       "version_minor": 0
      },
      "text/plain": [
       "Eval of epoch 34/50:   0%|          | 0/10 [00:00<?, ?batch/s]"
      ]
     },
     "metadata": {},
     "output_type": "display_data"
    },
    {
     "name": "stderr",
     "output_type": "stream",
     "text": [
      "--------------------------------------------------------------------------\n",
      "Train loss: 43.974\n",
      "Eval loss: 36.066\n",
      "--------------------------------------------------------------------------\n"
     ]
    },
    {
     "data": {
      "application/vnd.jupyter.widget-view+json": {
       "model_id": "5f726ab20fa14c80a95691834d0169ee",
       "version_major": 2,
       "version_minor": 0
      },
      "text/plain": [
       "Training of epoch 35/50:   0%|          | 0/100 [00:00<?, ?batch/s]"
      ]
     },
     "metadata": {},
     "output_type": "display_data"
    },
    {
     "data": {
      "application/vnd.jupyter.widget-view+json": {
       "model_id": "a02c754ce4a64fdeb1381917209947a4",
       "version_major": 2,
       "version_minor": 0
      },
      "text/plain": [
       "Eval of epoch 35/50:   0%|          | 0/10 [00:00<?, ?batch/s]"
      ]
     },
     "metadata": {},
     "output_type": "display_data"
    },
    {
     "name": "stderr",
     "output_type": "stream",
     "text": [
      "--------------------------------------------------------------------------\n",
      "Train loss: 40.9478\n",
      "Eval loss: 41.9381\n",
      "--------------------------------------------------------------------------\n"
     ]
    },
    {
     "data": {
      "application/vnd.jupyter.widget-view+json": {
       "model_id": "a1c629b4497f41f68cd8f76f0fdb1bfe",
       "version_major": 2,
       "version_minor": 0
      },
      "text/plain": [
       "Training of epoch 36/50:   0%|          | 0/100 [00:00<?, ?batch/s]"
      ]
     },
     "metadata": {},
     "output_type": "display_data"
    },
    {
     "data": {
      "application/vnd.jupyter.widget-view+json": {
       "model_id": "382bded151e44bd1b0707ae143500911",
       "version_major": 2,
       "version_minor": 0
      },
      "text/plain": [
       "Eval of epoch 36/50:   0%|          | 0/10 [00:00<?, ?batch/s]"
      ]
     },
     "metadata": {},
     "output_type": "display_data"
    },
    {
     "name": "stderr",
     "output_type": "stream",
     "text": [
      "--------------------------------------------------------------------------\n",
      "Train loss: 43.7921\n",
      "Eval loss: 39.4629\n",
      "--------------------------------------------------------------------------\n"
     ]
    },
    {
     "data": {
      "application/vnd.jupyter.widget-view+json": {
       "model_id": "fbf08b7717384f30bc9d86320ad798d1",
       "version_major": 2,
       "version_minor": 0
      },
      "text/plain": [
       "Training of epoch 37/50:   0%|          | 0/100 [00:00<?, ?batch/s]"
      ]
     },
     "metadata": {},
     "output_type": "display_data"
    },
    {
     "data": {
      "application/vnd.jupyter.widget-view+json": {
       "model_id": "ee30190c2b624f6a9b64fa857bc4107f",
       "version_major": 2,
       "version_minor": 0
      },
      "text/plain": [
       "Eval of epoch 37/50:   0%|          | 0/10 [00:00<?, ?batch/s]"
      ]
     },
     "metadata": {},
     "output_type": "display_data"
    },
    {
     "name": "stderr",
     "output_type": "stream",
     "text": [
      "--------------------------------------------------------------------------\n",
      "Train loss: 40.0904\n",
      "Eval loss: 38.101\n",
      "--------------------------------------------------------------------------\n"
     ]
    },
    {
     "data": {
      "application/vnd.jupyter.widget-view+json": {
       "model_id": "de97038172f643a19995c3834d5834dc",
       "version_major": 2,
       "version_minor": 0
      },
      "text/plain": [
       "Training of epoch 38/50:   0%|          | 0/100 [00:00<?, ?batch/s]"
      ]
     },
     "metadata": {},
     "output_type": "display_data"
    },
    {
     "data": {
      "application/vnd.jupyter.widget-view+json": {
       "model_id": "6b18ab89b54d41acb490a5dfff50640d",
       "version_major": 2,
       "version_minor": 0
      },
      "text/plain": [
       "Eval of epoch 38/50:   0%|          | 0/10 [00:00<?, ?batch/s]"
      ]
     },
     "metadata": {},
     "output_type": "display_data"
    },
    {
     "name": "stderr",
     "output_type": "stream",
     "text": [
      "--------------------------------------------------------------------------\n",
      "Train loss: 42.0358\n",
      "Eval loss: 34.0293\n",
      "--------------------------------------------------------------------------\n"
     ]
    },
    {
     "data": {
      "application/vnd.jupyter.widget-view+json": {
       "model_id": "b0c31968d693473aa0f650427e20b77e",
       "version_major": 2,
       "version_minor": 0
      },
      "text/plain": [
       "Training of epoch 39/50:   0%|          | 0/100 [00:00<?, ?batch/s]"
      ]
     },
     "metadata": {},
     "output_type": "display_data"
    },
    {
     "data": {
      "application/vnd.jupyter.widget-view+json": {
       "model_id": "be3d1cbac09c484f9b061557c6a67ba5",
       "version_major": 2,
       "version_minor": 0
      },
      "text/plain": [
       "Eval of epoch 39/50:   0%|          | 0/10 [00:00<?, ?batch/s]"
      ]
     },
     "metadata": {},
     "output_type": "display_data"
    },
    {
     "name": "stderr",
     "output_type": "stream",
     "text": [
      "--------------------------------------------------------------------------\n",
      "Train loss: 39.7718\n",
      "Eval loss: 36.4644\n",
      "--------------------------------------------------------------------------\n"
     ]
    },
    {
     "data": {
      "application/vnd.jupyter.widget-view+json": {
       "model_id": "22bed6bf5f92482abf9fabc6738e78fa",
       "version_major": 2,
       "version_minor": 0
      },
      "text/plain": [
       "Training of epoch 40/50:   0%|          | 0/100 [00:00<?, ?batch/s]"
      ]
     },
     "metadata": {},
     "output_type": "display_data"
    },
    {
     "data": {
      "application/vnd.jupyter.widget-view+json": {
       "model_id": "ba122aa1972545c3aecf867dfc5fc96e",
       "version_major": 2,
       "version_minor": 0
      },
      "text/plain": [
       "Eval of epoch 40/50:   0%|          | 0/10 [00:00<?, ?batch/s]"
      ]
     },
     "metadata": {},
     "output_type": "display_data"
    },
    {
     "name": "stderr",
     "output_type": "stream",
     "text": [
      "--------------------------------------------------------------------------\n",
      "Train loss: 40.3231\n",
      "Eval loss: 36.3404\n",
      "--------------------------------------------------------------------------\n"
     ]
    },
    {
     "data": {
      "application/vnd.jupyter.widget-view+json": {
       "model_id": "a96e8b4090804bc2aacd6f617e1dc5e6",
       "version_major": 2,
       "version_minor": 0
      },
      "text/plain": [
       "Training of epoch 41/50:   0%|          | 0/100 [00:00<?, ?batch/s]"
      ]
     },
     "metadata": {},
     "output_type": "display_data"
    },
    {
     "data": {
      "application/vnd.jupyter.widget-view+json": {
       "model_id": "843a483505bd46a695fe1c9194eb193a",
       "version_major": 2,
       "version_minor": 0
      },
      "text/plain": [
       "Eval of epoch 41/50:   0%|          | 0/10 [00:00<?, ?batch/s]"
      ]
     },
     "metadata": {},
     "output_type": "display_data"
    },
    {
     "name": "stderr",
     "output_type": "stream",
     "text": [
      "--------------------------------------------------------------------------\n",
      "Train loss: 45.2427\n",
      "Eval loss: 49.6391\n",
      "--------------------------------------------------------------------------\n"
     ]
    },
    {
     "data": {
      "application/vnd.jupyter.widget-view+json": {
       "model_id": "4d2a40a7cdb94e11975bb91fcc1d10e8",
       "version_major": 2,
       "version_minor": 0
      },
      "text/plain": [
       "Training of epoch 42/50:   0%|          | 0/100 [00:00<?, ?batch/s]"
      ]
     },
     "metadata": {},
     "output_type": "display_data"
    },
    {
     "data": {
      "application/vnd.jupyter.widget-view+json": {
       "model_id": "195602853d174573bee0f22c050d4ae4",
       "version_major": 2,
       "version_minor": 0
      },
      "text/plain": [
       "Eval of epoch 42/50:   0%|          | 0/10 [00:00<?, ?batch/s]"
      ]
     },
     "metadata": {},
     "output_type": "display_data"
    },
    {
     "name": "stderr",
     "output_type": "stream",
     "text": [
      "--------------------------------------------------------------------------\n",
      "Train loss: 42.101\n",
      "Eval loss: 41.5577\n",
      "--------------------------------------------------------------------------\n"
     ]
    },
    {
     "data": {
      "application/vnd.jupyter.widget-view+json": {
       "model_id": "72bff0fbd73c445a9699414540e73886",
       "version_major": 2,
       "version_minor": 0
      },
      "text/plain": [
       "Training of epoch 43/50:   0%|          | 0/100 [00:00<?, ?batch/s]"
      ]
     },
     "metadata": {},
     "output_type": "display_data"
    },
    {
     "data": {
      "application/vnd.jupyter.widget-view+json": {
       "model_id": "8d1e69edda584c2ca9c17f1444ef8b16",
       "version_major": 2,
       "version_minor": 0
      },
      "text/plain": [
       "Eval of epoch 43/50:   0%|          | 0/10 [00:00<?, ?batch/s]"
      ]
     },
     "metadata": {},
     "output_type": "display_data"
    },
    {
     "name": "stderr",
     "output_type": "stream",
     "text": [
      "--------------------------------------------------------------------------\n",
      "Train loss: 40.5898\n",
      "Eval loss: 41.6189\n",
      "--------------------------------------------------------------------------\n"
     ]
    },
    {
     "data": {
      "application/vnd.jupyter.widget-view+json": {
       "model_id": "0eafafa127fb430c925b406956149b49",
       "version_major": 2,
       "version_minor": 0
      },
      "text/plain": [
       "Training of epoch 44/50:   0%|          | 0/100 [00:00<?, ?batch/s]"
      ]
     },
     "metadata": {},
     "output_type": "display_data"
    },
    {
     "data": {
      "application/vnd.jupyter.widget-view+json": {
       "model_id": "88cbeda02ce845bcb513a415f3a15a03",
       "version_major": 2,
       "version_minor": 0
      },
      "text/plain": [
       "Eval of epoch 44/50:   0%|          | 0/10 [00:00<?, ?batch/s]"
      ]
     },
     "metadata": {},
     "output_type": "display_data"
    },
    {
     "name": "stderr",
     "output_type": "stream",
     "text": [
      "--------------------------------------------------------------------------\n",
      "Train loss: 39.3039\n",
      "Eval loss: 42.3499\n",
      "--------------------------------------------------------------------------\n"
     ]
    },
    {
     "data": {
      "application/vnd.jupyter.widget-view+json": {
       "model_id": "5fa1f611253d4f348bd15b67e655fef7",
       "version_major": 2,
       "version_minor": 0
      },
      "text/plain": [
       "Training of epoch 45/50:   0%|          | 0/100 [00:00<?, ?batch/s]"
      ]
     },
     "metadata": {},
     "output_type": "display_data"
    },
    {
     "data": {
      "application/vnd.jupyter.widget-view+json": {
       "model_id": "a69635b1e47d4148963e0bbe9b11689e",
       "version_major": 2,
       "version_minor": 0
      },
      "text/plain": [
       "Eval of epoch 45/50:   0%|          | 0/10 [00:00<?, ?batch/s]"
      ]
     },
     "metadata": {},
     "output_type": "display_data"
    },
    {
     "name": "stderr",
     "output_type": "stream",
     "text": [
      "--------------------------------------------------------------------------\n",
      "Train loss: 40.2525\n",
      "Eval loss: 40.2899\n",
      "--------------------------------------------------------------------------\n"
     ]
    },
    {
     "data": {
      "application/vnd.jupyter.widget-view+json": {
       "model_id": "9a659a91a7b640aeb2ee9d82e13f2cbb",
       "version_major": 2,
       "version_minor": 0
      },
      "text/plain": [
       "Training of epoch 46/50:   0%|          | 0/100 [00:00<?, ?batch/s]"
      ]
     },
     "metadata": {},
     "output_type": "display_data"
    },
    {
     "data": {
      "application/vnd.jupyter.widget-view+json": {
       "model_id": "43054d890dd54d698991c7ffb21969db",
       "version_major": 2,
       "version_minor": 0
      },
      "text/plain": [
       "Eval of epoch 46/50:   0%|          | 0/10 [00:00<?, ?batch/s]"
      ]
     },
     "metadata": {},
     "output_type": "display_data"
    },
    {
     "name": "stderr",
     "output_type": "stream",
     "text": [
      "--------------------------------------------------------------------------\n",
      "Train loss: 38.8709\n",
      "Eval loss: 34.4457\n",
      "--------------------------------------------------------------------------\n"
     ]
    },
    {
     "data": {
      "application/vnd.jupyter.widget-view+json": {
       "model_id": "36f6db455988459c94c066e896b85143",
       "version_major": 2,
       "version_minor": 0
      },
      "text/plain": [
       "Training of epoch 47/50:   0%|          | 0/100 [00:00<?, ?batch/s]"
      ]
     },
     "metadata": {},
     "output_type": "display_data"
    },
    {
     "data": {
      "application/vnd.jupyter.widget-view+json": {
       "model_id": "85e6e48f19cd4ec39e534bd61b77fdd7",
       "version_major": 2,
       "version_minor": 0
      },
      "text/plain": [
       "Eval of epoch 47/50:   0%|          | 0/10 [00:00<?, ?batch/s]"
      ]
     },
     "metadata": {},
     "output_type": "display_data"
    },
    {
     "name": "stderr",
     "output_type": "stream",
     "text": [
      "--------------------------------------------------------------------------\n",
      "Train loss: 42.3591\n",
      "Eval loss: 36.3393\n",
      "--------------------------------------------------------------------------\n"
     ]
    },
    {
     "data": {
      "application/vnd.jupyter.widget-view+json": {
       "model_id": "235673171e644eee8d489d74d760fc88",
       "version_major": 2,
       "version_minor": 0
      },
      "text/plain": [
       "Training of epoch 48/50:   0%|          | 0/100 [00:00<?, ?batch/s]"
      ]
     },
     "metadata": {},
     "output_type": "display_data"
    },
    {
     "data": {
      "application/vnd.jupyter.widget-view+json": {
       "model_id": "56664177932f4e6f9beb5c2dfe25970c",
       "version_major": 2,
       "version_minor": 0
      },
      "text/plain": [
       "Eval of epoch 48/50:   0%|          | 0/10 [00:00<?, ?batch/s]"
      ]
     },
     "metadata": {},
     "output_type": "display_data"
    },
    {
     "name": "stderr",
     "output_type": "stream",
     "text": [
      "--------------------------------------------------------------------------\n",
      "Train loss: 39.2903\n",
      "Eval loss: 38.7344\n",
      "--------------------------------------------------------------------------\n"
     ]
    },
    {
     "data": {
      "application/vnd.jupyter.widget-view+json": {
       "model_id": "4fa3657ff6de4cefb3a958b528e3635c",
       "version_major": 2,
       "version_minor": 0
      },
      "text/plain": [
       "Training of epoch 49/50:   0%|          | 0/100 [00:00<?, ?batch/s]"
      ]
     },
     "metadata": {},
     "output_type": "display_data"
    },
    {
     "data": {
      "application/vnd.jupyter.widget-view+json": {
       "model_id": "cfe6e521b7cf4ce99ff48f8e379cab6c",
       "version_major": 2,
       "version_minor": 0
      },
      "text/plain": [
       "Eval of epoch 49/50:   0%|          | 0/10 [00:00<?, ?batch/s]"
      ]
     },
     "metadata": {},
     "output_type": "display_data"
    },
    {
     "name": "stderr",
     "output_type": "stream",
     "text": [
      "--------------------------------------------------------------------------\n",
      "Train loss: 41.2091\n",
      "Eval loss: 38.0018\n",
      "--------------------------------------------------------------------------\n"
     ]
    },
    {
     "name": "stdout",
     "output_type": "stream",
     "text": [
      "Epoch 00049: reducing learning rate of group 0 to 5.0000e-04.\n"
     ]
    },
    {
     "data": {
      "application/vnd.jupyter.widget-view+json": {
       "model_id": "5303558161764293b03d6677a2003c7e",
       "version_major": 2,
       "version_minor": 0
      },
      "text/plain": [
       "Training of epoch 50/50:   0%|          | 0/100 [00:00<?, ?batch/s]"
      ]
     },
     "metadata": {},
     "output_type": "display_data"
    },
    {
     "data": {
      "application/vnd.jupyter.widget-view+json": {
       "model_id": "b7e410c296c24eb3becb13635d258e2f",
       "version_major": 2,
       "version_minor": 0
      },
      "text/plain": [
       "Eval of epoch 50/50:   0%|          | 0/10 [00:00<?, ?batch/s]"
      ]
     },
     "metadata": {},
     "output_type": "display_data"
    },
    {
     "name": "stderr",
     "output_type": "stream",
     "text": [
      "--------------------------------------------------------------------------\n",
      "Train loss: 37.3718\n",
      "Eval loss: 33.6677\n",
      "--------------------------------------------------------------------------\n",
      "Training ended!\n",
      "Saved final model in dummy_output_dir/MAF_training_2022-10-11_17-30-56/final_model\n"
     ]
    }
   ],
   "source": [
    "pipeline(\n",
    "    train_data=train_moons,\n",
    "    eval_data=eval_moons\n",
    ")"
   ]
  },
  {
   "cell_type": "code",
   "execution_count": 10,
   "metadata": {},
   "outputs": [],
   "source": [
    "import os\n",
    "from pythae.models import AutoModel"
   ]
  },
  {
   "cell_type": "code",
   "execution_count": 11,
   "metadata": {},
   "outputs": [
    {
     "data": {
      "text/plain": [
       "<matplotlib.legend.Legend at 0x7f4676a4baf0>"
      ]
     },
     "execution_count": 11,
     "metadata": {},
     "output_type": "execute_result"
    },
    {
     "data": {
      "image/png": "[encoded data removed]",
      "text/plain": [
       "<Figure size 432x288 with 1 Axes>"
      ]
     },
     "metadata": {
      "needs_background": "light"
     },
     "output_type": "display_data"
    }
   ],
   "source": [
    "nf_rec = AutoModel.load_from_folder(os.path.join(pipeline.trainer.training_dir, 'final_model')).to(device).eval()\n",
    "\n",
    "z_sample = prior.sample((128*8,))\n",
    "\n",
    "z = nf_rec.inverse(z_sample).out.detach().cpu()\n",
    "plt.scatter(train_moons[:,0], train_moons[:,1], c='b', s=20, alpha=0.5, label='true distribution')\n",
    "plt.scatter(z[:,0], z[:,1], c='r', s=20, alpha=0.5, label='transformed gaussian')\n",
    "plt.legend()"
   ]
  },
  {
   "cell_type": "code",
   "execution_count": 12,
   "metadata": {},
   "outputs": [
    {
     "data": {
      "text/plain": [
       "<matplotlib.legend.Legend at 0x7f46724f2b20>"
      ]
     },
     "execution_count": 12,
     "metadata": {},
     "output_type": "execute_result"
    },
    {
     "data": {
      "image/png": "[encoded data removed]",
      "text/plain": [
       "<Figure size 432x288 with 1 Axes>"
      ]
     },
     "metadata": {
      "needs_background": "light"
     },
     "output_type": "display_data"
    }
   ],
   "source": [
    "z = nf_rec(train_moons.cuda()[:1000]).out.detach().cpu()\n",
    "plt.scatter(z_sample.cpu()[:,0], z_sample.cpu()[:,1], c='b', s=20, alpha=0.5, label='prior distribution')\n",
    "plt.scatter(z[:,0], z[:,1], c='r', s=20, alpha=0.5, label='transformed two moons')\n",
    "plt.legend()"
   ]
  }
 ],
 "metadata": {
  "interpreter": {
   "hash": "5e51c5ac46389dd7ba2bd8215d251ab84152720d3cad2ff91113d77594821aef"
  },
  "kernelspec": {
   "display_name": "Python 3.8.12 64-bit ('pythae': conda)",
   "language": "python",
   "name": "python3"
  },
  "language_info": {
   "codemirror_mode": {
    "name": "ipython",
    "version": 3
   },
   "file_extension": ".py",
   "mimetype": "text/x-python",
   "name": "python",
   "nbconvert_exporter": "python",
   "pygments_lexer": "ipython3",
   "version": "3.8.12"
  },
  "orig_nbformat": 4
 },
 "nbformat": 4,
 "nbformat_minor": 2
}
