{
 "cells": [
  {
   "cell_type": "code",
   "execution_count": null,
   "metadata": {},
   "outputs": [],
   "source": [
    "# If you run on colab uncomment the following line\n",
    "#!pip install git+https://github.com/clementchadebec/benchmark_VAE.git"
   ]
  },
  {
   "cell_type": "code",
   "execution_count": null,
   "metadata": {},
   "outputs": [],
   "source": [
    "import numpy as np\n",
    "import matplotlib.pyplot as plt\n",
    "%matplotlib inline\n",
    "\n",
    "import torch\n",
    "from torch.distributions import MultivariateNormal\n",
    "\n",
    "%load_ext autoreload\n",
    "%autoreload 2\n",
    "\n",
    "device = \"cuda\" if torch.cuda.is_available() else \"cpu\""
   ]
  },
  {
   "cell_type": "code",
   "execution_count": null,
   "metadata": {},
   "outputs": [],
   "source": [
    "from sklearn import datasets\n",
    "from pythae.data.datasets import BaseDataset\n",
    "\n",
    "train_moons = torch.from_numpy(datasets.make_moons(n_samples=10000, noise=0.05)[0].astype(np.float32))\n",
    "eval_moons = torch.from_numpy(datasets.make_moons(n_samples=1000, noise=0.05)[0].astype(np.float32))"
   ]
  },
  {
   "cell_type": "code",
   "execution_count": null,
   "metadata": {},
   "outputs": [],
   "source": [
    "from pythae.models.normalizing_flows import MAFConfig, MAF, NFModel, IAF, IAFConfig\n",
    "\n",
    "prior = MultivariateNormal(torch.zeros(2).to(device), torch.eye(2).to(device))\n",
    "\n",
    "conf = MAFConfig(input_dim=(2,), n_hidden_in_made=3, hidden_size=24, n_made_blocks=4, include_batch_norm=False)\n",
    "flow = MAF(conf)\n",
    "\n",
    "# conf = IAFConfig(input_dim=(2,), n_hidden_in_made=3, hidden_size=24, n_made_blocks=2, include_batch_norm=False)\n",
    "# flow = IAF(conf)\n",
    "\n",
    "\n",
    "contained_flow = NFModel(prior, flow)"
   ]
  },
  {
   "cell_type": "code",
   "execution_count": null,
   "metadata": {},
   "outputs": [],
   "source": [
    "from pythae.trainers import BaseTrainer, BaseTrainerConfig\n",
    "from pythae.pipelines import TrainingPipeline\n",
    "\n",
    "\n",
    "train_config = BaseTrainerConfig(num_epochs=50, learning_rate=1e-3)\n",
    "pipeline = TrainingPipeline(model=contained_flow, training_config=train_config)"
   ]
  },
  {
   "cell_type": "code",
   "execution_count": null,
   "metadata": {},
   "outputs": [],
   "source": [
    "pipeline(\n",
    "    train_data=train_moons,\n",
    "    eval_data=eval_moons\n",
    ")"
   ]
  },
  {
   "cell_type": "code",
   "execution_count": null,
   "metadata": {},
   "outputs": [],
   "source": [
    "trained_flow = pipeline.trainer._best_model.flow\n",
    "trained_flow.eval()\n",
    "\n",
    "z_sample = prior.sample((128*8,))\n",
    "\n",
    "z = trained_flow.inverse(z_sample).out.detach().cpu()\n",
    "plt.scatter(train_moons[:,0], train_moons[:,1], c='b', s=20, alpha=0.5, label='true distribution')\n",
    "plt.scatter(z[:,0], z[:,1], c='r', s=20, alpha=0.5, label='transformed gaussian')\n",
    "plt.legend()"
   ]
  },
  {
   "cell_type": "code",
   "execution_count": null,
   "metadata": {},
   "outputs": [],
   "source": [
    "#trained_flow = pipeline.trainer._best_model.flow\n",
    "#trained_flow.eval()\n",
    "\n",
    "maf_rec = MAF.load_from_folder(os.path.join(pipeline.trainer.training_dir, 'final_model')).to(device)\n",
    "\n",
    "z = maf_rec.inverse(z_sample).out.detach().cpu()\n",
    "plt.scatter(train_moons[:,0], train_moons[:,1], c='b', s=20, alpha=0.5, label='true distribution')\n",
    "plt.scatter(z[:,0], z[:,1], c='r', s=20, alpha=0.5, label='transformed gaussian')\n",
    "plt.legend()"
   ]
  },
  {
   "cell_type": "code",
   "execution_count": null,
   "metadata": {},
   "outputs": [],
   "source": [
    "pipeline.trainer.training_dir, \"dummy_output_dir/MAF_training_2022-04-04_16-02-43/final_model\""
   ]
  },
  {
   "cell_type": "code",
   "execution_count": null,
   "metadata": {},
   "outputs": [],
   "source": [
    "os.path.join(pipeline.trainer.training_dir, 'trained_model'),\"dummy_output_dir/MAF_training_2022-04-04_16-02-43/final_model\""
   ]
  },
  {
   "cell_type": "code",
   "execution_count": null,
   "metadata": {},
   "outputs": [],
   "source": []
  }
 ],
 "metadata": {
  "interpreter": {
   "hash": "5e51c5ac46389dd7ba2bd8215d251ab84152720d3cad2ff91113d77594821aef"
  },
  "kernelspec": {
   "display_name": "Python 3.8.12 64-bit ('pythae': conda)",
   "language": "python",
   "name": "python3"
  },
  "language_info": {
   "codemirror_mode": {
    "name": "ipython",
    "version": 3
   },
   "file_extension": ".py",
   "mimetype": "text/x-python",
   "name": "python",
   "nbconvert_exporter": "python",
   "pygments_lexer": "ipython3",
   "version": "3.8.12"
  },
  "orig_nbformat": 4
 },
 "nbformat": 4,
 "nbformat_minor": 2
}
