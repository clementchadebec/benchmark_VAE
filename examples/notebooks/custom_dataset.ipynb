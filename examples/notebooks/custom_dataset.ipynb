{
 "cells": [
  {
   "cell_type": "markdown",
   "metadata": {},
   "source": [
    "# Tutorial - Using your own Dataset\n",
    "\n",
    "In this notebook, we will see how to use your own `Dataset` within `pythae`"
   ]
  },
  {
   "cell_type": "code",
   "execution_count": 7,
   "metadata": {},
   "outputs": [
    {
     "name": "stdout",
     "output_type": "stream",
     "text": [
      "Collecting git+https://github.com/clementchadebec/benchmark_VAE.git@custom_loaders\n",
      "  Cloning https://github.com/clementchadebec/benchmark_VAE.git (to revision custom_loaders) to /tmp/pip-req-build-ep0ga262\n",
      "  Running command git clone -q https://github.com/clementchadebec/benchmark_VAE.git /tmp/pip-req-build-ep0ga262\n",
      "  Running command git checkout -b custom_loaders --track origin/custom_loaders\n",
      "  Switched to a new branch 'custom_loaders'\n",
      "  Branch 'custom_loaders' set up to track remote branch 'custom_loaders' from 'origin'.\n",
      "  Resolved https://github.com/clementchadebec/benchmark_VAE.git to commit 79c9cf27e85db2b8c509980e276e31b002cc0115\n",
      "  Installing build dependencies ... \u001b[?25ldone\n",
      "\u001b[?25h  Getting requirements to build wheel ... \u001b[?25ldone\n",
      "\u001b[?25h    Preparing wheel metadata ... \u001b[?25ldone\n",
      "\u001b[?25hRequirement already satisfied: dataclasses>=0.6 in /home/clement/anaconda3/envs/pythae_dev/lib/python3.8/site-packages (from pythae==0.0.6) (0.6)\n",
      "Requirement already satisfied: imageio in /home/clement/anaconda3/envs/pythae_dev/lib/python3.8/site-packages (from pythae==0.0.6) (2.9.0)\n",
      "Requirement already satisfied: sklearn in /home/clement/anaconda3/envs/pythae_dev/lib/python3.8/site-packages (from pythae==0.0.6) (0.0)\n",
      "Requirement already satisfied: torch>=1.10.1 in /home/clement/anaconda3/envs/pythae_dev/lib/python3.8/site-packages (from pythae==0.0.6) (1.12.0)\n",
      "Requirement already satisfied: typing-extensions in /home/clement/anaconda3/envs/pythae_dev/lib/python3.8/site-packages (from pythae==0.0.6) (4.2.0)\n",
      "Requirement already satisfied: pickle5 in /home/clement/anaconda3/envs/pythae_dev/lib/python3.8/site-packages (from pythae==0.0.6) (0.0.11)\n",
      "Requirement already satisfied: pydantic>=1.8.2 in /home/clement/anaconda3/envs/pythae_dev/lib/python3.8/site-packages (from pythae==0.0.6) (1.8.2)\n",
      "Requirement already satisfied: cloudpickle>=2.1.0 in /home/clement/anaconda3/envs/pythae_dev/lib/python3.8/site-packages (from pythae==0.0.6) (2.1.0)\n",
      "Requirement already satisfied: numpy>=1.19 in /home/clement/anaconda3/envs/pythae_dev/lib/python3.8/site-packages (from pythae==0.0.6) (1.21.2)\n",
      "Requirement already satisfied: tqdm in /home/clement/anaconda3/envs/pythae_dev/lib/python3.8/site-packages (from pythae==0.0.6) (4.62.3)\n",
      "Requirement already satisfied: scipy>=1.7.1 in /home/clement/anaconda3/envs/pythae_dev/lib/python3.8/site-packages (from pythae==0.0.6) (1.7.1)\n",
      "Requirement already satisfied: pillow in /home/clement/anaconda3/envs/pythae_dev/lib/python3.8/site-packages (from imageio->pythae==0.0.6) (8.3.2)\n",
      "Requirement already satisfied: scikit-learn in /home/clement/anaconda3/envs/pythae_dev/lib/python3.8/site-packages (from sklearn->pythae==0.0.6) (1.0)\n",
      "Requirement already satisfied: threadpoolctl>=2.0.0 in /home/clement/anaconda3/envs/pythae_dev/lib/python3.8/site-packages (from scikit-learn->sklearn->pythae==0.0.6) (3.0.0)\n",
      "Requirement already satisfied: joblib>=0.11 in /home/clement/anaconda3/envs/pythae_dev/lib/python3.8/site-packages (from scikit-learn->sklearn->pythae==0.0.6) (1.1.0)\n",
      "Building wheels for collected packages: pythae\n",
      "  Building wheel for pythae (PEP 517) ... \u001b[?25ldone\n",
      "\u001b[?25h  Created wheel for pythae: filename=pythae-0.0.6-py3-none-any.whl size=202239 sha256=73f9b5385798eedb08c2acfa055394e18b76f8a307a9f13c104261e1c53e39e4\n",
      "  Stored in directory: /tmp/pip-ephem-wheel-cache-58w8fx6s/wheels/88/07/13/95ada82db6827210c39f7a50de0ce84ae4d8ccc4f7cfcf8001\n",
      "Successfully built pythae\n",
      "Installing collected packages: pythae\n",
      "  Attempting uninstall: pythae\n",
      "    Found existing installation: pythae 0.0.7\n",
      "    Uninstalling pythae-0.0.7:\n",
      "      Successfully uninstalled pythae-0.0.7\n",
      "Successfully installed pythae-0.0.6\n",
      "Note: you may need to restart the kernel to use updated packages.\n"
     ]
    }
   ],
   "source": [
    "# Install the library\n",
    "%pip install git+https://github.com/clementchadebec/benchmark_VAE.git"
   ]
  },
  {
   "cell_type": "markdown",
   "metadata": {},
   "source": [
    "# Load the data"
   ]
  },
  {
   "cell_type": "code",
   "execution_count": 8,
   "metadata": {},
   "outputs": [
    {
     "name": "stdout",
     "output_type": "stream",
     "text": [
      "The autoreload extension is already loaded. To reload it, use:\n",
      "  %reload_ext autoreload\n"
     ]
    }
   ],
   "source": [
    "import torchvision.datasets as datasets\n",
    "\n",
    "%load_ext autoreload\n",
    "%autoreload 2"
   ]
  },
  {
   "cell_type": "code",
   "execution_count": 9,
   "metadata": {},
   "outputs": [],
   "source": [
    "mnist_trainset = datasets.MNIST(root='../data', train=True, download=True, transform=None)\n",
    "\n",
    "train_dataset = mnist_trainset.data[:10000].reshape(-1, 1, 28, 28) / 255.\n",
    "train_targets = mnist_trainset.targets[:10000]\n",
    "eval_dataset = mnist_trainset.data[-10000:].reshape(-1, 1, 28, 28) / 255.\n",
    "eval_targets = mnist_trainset.targets[-10000:]"
   ]
  },
  {
   "cell_type": "markdown",
   "metadata": {},
   "source": [
    "## Example\n",
    "Below is presented an example where we build a dataset inheriting from [`torchvision.datasets.ImageFolder`](https://pytorch.org/vision/stable/generated/torchvision.datasets.ImageFolder.html#torchvision.datasets.ImageFolder) that iterate on images located in a folder. In particular, this loader will avoid loading all the data at once."
   ]
  },
  {
   "cell_type": "code",
   "execution_count": 10,
   "metadata": {},
   "outputs": [],
   "source": [
    "# We will save the data in folders to mimic the desired example\n",
    "\n",
    "import os\n",
    "import torch\n",
    "import numpy as np\n",
    "import imageio\n",
    "\n",
    "if not os.path.exists(\"data_folders\"):\n",
    "    os.mkdir(\"data_folders\")\n",
    "if not os.path.exists(\"data_folders/train\"):\n",
    "    os.mkdir(\"data_folders/train\")\n",
    "if not os.path.exists(\"data_folders/eval\"):\n",
    "    os.mkdir(\"data_folders/eval\")\n",
    "\n",
    "for i in range(len(train_dataset)):\n",
    "    img = 255.0*train_dataset[i][0].unsqueeze(-1)\n",
    "    img_folder = os.path.join(\"data_folders\", \"train\", f\"{train_targets[i]}\")\n",
    "    if not os.path.exists(img_folder):\n",
    "        os.mkdir(img_folder)\n",
    "    imageio.imwrite(os.path.join(img_folder, \"%08d.jpg\" % i), np.repeat(img, repeats=3, axis=-1).type(torch.uint8))\n",
    "\n",
    "for i in range(len(eval_dataset)):\n",
    "    img = 255.0*eval_dataset[i][0].unsqueeze(-1)\n",
    "    img_folder = os.path.join(\"data_folders\", \"eval\", f\"{eval_targets[i]}\")\n",
    "    if not os.path.exists(img_folder):\n",
    "        os.mkdir(img_folder)\n",
    "    imageio.imwrite(os.path.join(img_folder, \"%08d.jpg\" % i), np.repeat(img, repeats=3, axis=-1).type(torch.uint8))"
   ]
  },
  {
   "cell_type": "code",
   "execution_count": 13,
   "metadata": {},
   "outputs": [],
   "source": [
    "# Define transforms to be applied on the data when reloaded\n",
    "from torchvision import datasets, transforms\n",
    "data_transform = transforms.Compose([\n",
    "    transforms.Grayscale(num_output_channels=1),\n",
    "    transforms.ToTensor() # the data must be tensors\n",
    "])"
   ]
  },
  {
   "cell_type": "markdown",
   "metadata": {},
   "source": [
    "# Define your `CustomDataset`\n",
    "\n",
    "In this example, we build a custom dataset inheriting from ImageFolder. The only thing you have to keep in mind when building a custom dataset that you want to use in `pythae` is that the `__getitem__` method must output a `DatasetOutput` instance containing at least `data` as key. If this is not the case, you will not be able to combine your Dataset with the `pipelines`. "
   ]
  },
  {
   "cell_type": "code",
   "execution_count": 14,
   "metadata": {},
   "outputs": [],
   "source": [
    "from pythae.data.datasets import DatasetOutput\n",
    "\n",
    "class MyCustomDataset(datasets.ImageFolder):\n",
    "\n",
    "    def __init__(self, root, transform=None, target_transform=None):\n",
    "        super().__init__(root=root, transform=transform, target_transform=target_transform)\n",
    "\n",
    "    def __getitem__(self, index):\n",
    "        X, _ = super().__getitem__(index)\n",
    "\n",
    "        return DatasetOutput(\n",
    "            data=X\n",
    "        )"
   ]
  },
  {
   "cell_type": "code",
   "execution_count": 15,
   "metadata": {},
   "outputs": [],
   "source": [
    "train_dataset = MyCustomDataset(\n",
    "    root=\"data_folders/train\",\n",
    "    transform=data_transform,\n",
    ")\n",
    "\n",
    "eval_dataset = MyCustomDataset(\n",
    "    root=\"data_folders/eval\", \n",
    "    transform=data_transform\n",
    ")"
   ]
  },
  {
   "cell_type": "markdown",
   "metadata": {},
   "source": [
    "## Use your CustomDataset to train a `pythae.models`\n",
    "\n",
    "Now, the datasets can be passed to the `training_pipeline` to train any model implemented in `pythae`."
   ]
  },
  {
   "cell_type": "code",
   "execution_count": 16,
   "metadata": {},
   "outputs": [],
   "source": [
    "from pythae.models import VAE, VAEConfig\n",
    "from pythae.trainers import BaseTrainerConfig\n",
    "from pythae.pipelines.training import TrainingPipeline"
   ]
  },
  {
   "cell_type": "code",
   "execution_count": 17,
   "metadata": {},
   "outputs": [],
   "source": [
    "config = BaseTrainerConfig(\n",
    "    output_dir='my_model',\n",
    "    learning_rate=1e-3,\n",
    "    batch_size=100,\n",
    "    num_epochs=10, # Change this to train the model a bit more\n",
    ")\n",
    "\n",
    "\n",
    "model_config = VAEConfig(\n",
    "    input_dim=(1, 28, 28),\n",
    "    latent_dim=16\n",
    ")\n",
    "\n",
    "model = VAE(\n",
    "    model_config=model_config\n",
    ")"
   ]
  },
  {
   "cell_type": "code",
   "execution_count": 18,
   "metadata": {},
   "outputs": [],
   "source": [
    "pipeline = TrainingPipeline(\n",
    "    training_config=config,\n",
    "    model=model\n",
    ")"
   ]
  },
  {
   "cell_type": "code",
   "execution_count": 19,
   "metadata": {},
   "outputs": [
    {
     "name": "stderr",
     "output_type": "stream",
     "text": [
      "Checking train dataset...\n",
      "Checking eval dataset...\n",
      "Using Base Trainer\n",
      "\n",
      "Model passed sanity check !\n",
      "\n",
      "Created my_model/VAE_training_2022-09-05_09-56-38. \n",
      "Training config, checkpoints and final model will be saved here.\n",
      "\n",
      "Successfully launched training !\n",
      "\n",
      "Training of epoch 1/10: 100%|██████████| 100/100 [00:07<00:00, 12.57batch/s]"
     ]
    }
   ],
   "source": [
    "pipeline(\n",
    "    train_data=train_dataset, # here we use the custom train dataset\n",
    "    eval_data=eval_dataset # here we use the custom eval dataset\n",
    ")"
   ]
  },
  {
   "cell_type": "markdown",
   "metadata": {},
   "source": [
    "## Let's have a look to the trained model"
   ]
  },
  {
   "cell_type": "code",
   "execution_count": null,
   "metadata": {},
   "outputs": [],
   "source": [
    "import os\n",
    "from pythae.models import AutoModel"
   ]
  },
  {
   "cell_type": "code",
   "execution_count": null,
   "metadata": {},
   "outputs": [],
   "source": [
    "last_training = sorted(os.listdir('my_model'))[-1]\n",
    "trained_model = AutoModel.load_from_folder(os.path.join('my_model', last_training, 'final_model'))"
   ]
  },
  {
   "cell_type": "code",
   "execution_count": null,
   "metadata": {},
   "outputs": [],
   "source": [
    "from pythae.samplers import NormalSampler"
   ]
  },
  {
   "cell_type": "code",
   "execution_count": null,
   "metadata": {},
   "outputs": [],
   "source": [
    "# create normal sampler\n",
    "normal_samper = NormalSampler(\n",
    "    model=trained_model\n",
    ")"
   ]
  },
  {
   "cell_type": "code",
   "execution_count": null,
   "metadata": {},
   "outputs": [],
   "source": [
    "# sample\n",
    "gen_data = normal_samper.sample(\n",
    "    num_samples=25\n",
    ")"
   ]
  },
  {
   "cell_type": "code",
   "execution_count": null,
   "metadata": {},
   "outputs": [],
   "source": [
    "import matplotlib.pyplot as plt"
   ]
  },
  {
   "cell_type": "code",
   "execution_count": null,
   "metadata": {},
   "outputs": [
    {
     "data": {
      "image/png": "[encoded data removed]",
      "text/plain": [
       "<Figure size 720x720 with 25 Axes>"
      ]
     },
     "metadata": {
      "needs_background": "light"
     },
     "output_type": "display_data"
    }
   ],
   "source": [
    "# show results with normal sampler\n",
    "fig, axes = plt.subplots(nrows=5, ncols=5, figsize=(10, 10))\n",
    "\n",
    "for i in range(5):\n",
    "    for j in range(5):\n",
    "        axes[i][j].imshow(gen_data[i*5 +j].cpu().squeeze(0), cmap='gray')\n",
    "        axes[i][j].axis('off')\n",
    "plt.tight_layout(pad=0.)"
   ]
  },
  {
   "cell_type": "code",
   "execution_count": null,
   "metadata": {},
   "outputs": [],
   "source": []
  }
 ],
 "metadata": {
  "interpreter": {
   "hash": "5e51c5ac46389dd7ba2bd8215d251ab84152720d3cad2ff91113d77594821aef"
  },
  "kernelspec": {
   "display_name": "Python 3.8.12 ('pythae')",
   "language": "python",
   "name": "python3"
  },
  "language_info": {
   "codemirror_mode": {
    "name": "ipython",
    "version": 3
   },
   "file_extension": ".py",
   "mimetype": "text/x-python",
   "name": "python",
   "nbconvert_exporter": "python",
   "pygments_lexer": "ipython3",
   "version": "3.8.13"
  },
  "orig_nbformat": 4
 },
 "nbformat": 4,
 "nbformat_minor": 2
}
