{
 "cells": [
  {
   "cell_type": "markdown",
   "metadata": {},
   "source": [
    "# Tutorial - MLFlow experiements monitoring\n",
    "\n",
    "In this notebook, we will see how to smonitor your experiments using the integrated **mlflow** callbacks."
   ]
  },
  {
   "cell_type": "code",
   "execution_count": 1,
   "metadata": {},
   "outputs": [
    {
     "name": "stdout",
     "output_type": "stream",
     "text": [
      "Requirement already satisfied: pythae in /home/clement/Documents/benchmark_VAE/src (0.0.1)\n",
      "Requirement already satisfied: cloudpickle>=2.1.0 in /home/clement/anaconda3/envs/pythae/lib/python3.8/site-packages (from pythae) (2.1.0)\n",
      "Requirement already satisfied: imageio in /home/clement/anaconda3/envs/pythae/lib/python3.8/site-packages (from pythae) (2.9.0)\n",
      "Requirement already satisfied: numpy>=1.19 in /home/clement/anaconda3/envs/pythae/lib/python3.8/site-packages (from pythae) (1.19.5)\n",
      "Requirement already satisfied: pydantic>=1.8.2 in /home/clement/anaconda3/envs/pythae/lib/python3.8/site-packages (from pythae) (1.8.2)\n",
      "Requirement already satisfied: sklearn in /home/clement/anaconda3/envs/pythae/lib/python3.8/site-packages (from pythae) (0.0)\n",
      "Requirement already satisfied: scipy>=1.7.1 in /home/clement/anaconda3/envs/pythae/lib/python3.8/site-packages (from pythae) (1.7.1)\n",
      "Requirement already satisfied: torch>=1.10.1 in /home/clement/anaconda3/envs/pythae/lib/python3.8/site-packages (from pythae) (1.12.0)\n",
      "Requirement already satisfied: tqdm in /home/clement/anaconda3/envs/pythae/lib/python3.8/site-packages (from pythae) (4.62.3)\n",
      "Requirement already satisfied: typing_extensions in /home/clement/anaconda3/envs/pythae/lib/python3.8/site-packages (from pythae) (3.7.4.3)\n",
      "Requirement already satisfied: dataclasses>=0.6 in /home/clement/anaconda3/envs/pythae/lib/python3.8/site-packages (from pythae) (0.6)\n",
      "Requirement already satisfied: pickle5 in /home/clement/anaconda3/envs/pythae/lib/python3.8/site-packages (from pythae) (0.0.11)\n",
      "Requirement already satisfied: pillow in /home/clement/anaconda3/envs/pythae/lib/python3.8/site-packages (from imageio->pythae) (8.4.0)\n",
      "Requirement already satisfied: scikit-learn in /home/clement/anaconda3/envs/pythae/lib/python3.8/site-packages (from sklearn->pythae) (1.0)\n",
      "Requirement already satisfied: threadpoolctl>=2.0.0 in /home/clement/anaconda3/envs/pythae/lib/python3.8/site-packages (from scikit-learn->sklearn->pythae) (3.0.0)\n",
      "Requirement already satisfied: joblib>=0.11 in /home/clement/anaconda3/envs/pythae/lib/python3.8/site-packages (from scikit-learn->sklearn->pythae) (1.1.0)\n",
      "Note: you may need to restart the kernel to use updated packages.\n"
     ]
    }
   ],
   "source": [
    "# Install the library\n",
    "%pip install pythae"
   ]
  },
  {
   "cell_type": "markdown",
   "metadata": {},
   "source": [
    "## Train your Pythae model"
   ]
  },
  {
   "cell_type": "code",
   "execution_count": 2,
   "metadata": {},
   "outputs": [],
   "source": [
    "import torchvision.datasets as datasets\n",
    "\n",
    "%load_ext autoreload\n",
    "%autoreload 2"
   ]
  },
  {
   "cell_type": "code",
   "execution_count": 3,
   "metadata": {},
   "outputs": [
    {
     "name": "stderr",
     "output_type": "stream",
     "text": [
      "/home/clement/anaconda3/envs/pythae/lib/python3.8/site-packages/torchvision/datasets/mnist.py:498: UserWarning: The given NumPy array is not writable, and PyTorch does not support non-writable tensors. This means writing to this tensor will result in undefined behavior. You may want to copy the array to protect its data or make it writable before converting it to a tensor. This type of warning will be suppressed for the rest of this program. (Triggered internally at  ../torch/csrc/utils/tensor_numpy.cpp:178.)\n",
      "  return torch.from_numpy(parsed.astype(m[2], copy=False)).view(*s)\n"
     ]
    }
   ],
   "source": [
    "mnist_trainset = datasets.MNIST(root='../data', train=True, download=True, transform=None)\n",
    "\n",
    "train_dataset = mnist_trainset.data[:-10000].reshape(-1, 1, 28, 28) / 255.\n",
    "eval_dataset = mnist_trainset.data[-10000:].reshape(-1, 1, 28, 28) / 255."
   ]
  },
  {
   "cell_type": "code",
   "execution_count": 4,
   "metadata": {},
   "outputs": [],
   "source": [
    "from pythae.models import BetaVAE, BetaVAEConfig\n",
    "from pythae.trainers import BaseTrainerConfig\n",
    "from pythae.pipelines.training import TrainingPipeline\n",
    "from pythae.models.nn.benchmarks.mnist import Encoder_ResNet_VAE_MNIST, Decoder_ResNet_AE_MNIST"
   ]
  },
  {
   "cell_type": "code",
   "execution_count": 20,
   "metadata": {},
   "outputs": [],
   "source": [
    "training_config = BaseTrainerConfig(\n",
    "    output_dir='my_model',\n",
    "    learning_rate=1e-3,\n",
    "    batch_size=100,\n",
    "    num_epochs=5, # Change this to train the model a bit more\n",
    ")\n",
    "\n",
    "\n",
    "model_config = BetaVAEConfig(\n",
    "    input_dim=(1, 28, 28),\n",
    "    latent_dim=16,\n",
    "    beta=2.\n",
    "\n",
    ")\n",
    "\n",
    "model = BetaVAE(\n",
    "    model_config=model_config,\n",
    "    encoder=Encoder_ResNet_VAE_MNIST(model_config), \n",
    "    decoder=Decoder_ResNet_AE_MNIST(model_config) \n",
    ")"
   ]
  },
  {
   "cell_type": "markdown",
   "metadata": {},
   "source": [
    "## Before lauching the pipeline, you will need to build your `MLFLowCallback`\n",
    "\n",
    "To be able to access this feature you will need:\n",
    "- the `mlflow` package installed in your virtual env. You can install it by running (`pip install mlflow`)"
   ]
  },
  {
   "cell_type": "code",
   "execution_count": 21,
   "metadata": {},
   "outputs": [
    {
     "name": "stdout",
     "output_type": "stream",
     "text": [
      "Requirement already satisfied: mlflow in /home/clement/anaconda3/envs/pythae/lib/python3.8/site-packages (1.28.0)\n",
      "Requirement already satisfied: scipy<2 in /home/clement/anaconda3/envs/pythae/lib/python3.8/site-packages (from mlflow) (1.7.1)\n",
      "Requirement already satisfied: entrypoints<1 in /home/clement/anaconda3/envs/pythae/lib/python3.8/site-packages (from mlflow) (0.3)\n",
      "Requirement already satisfied: gunicorn<21 in /home/clement/anaconda3/envs/pythae/lib/python3.8/site-packages (from mlflow) (20.1.0)\n",
      "Requirement already satisfied: docker<6,>=4.0.0 in /home/clement/anaconda3/envs/pythae/lib/python3.8/site-packages (from mlflow) (5.0.3)\n",
      "Requirement already satisfied: gitpython<4,>=2.1.0 in /home/clement/anaconda3/envs/pythae/lib/python3.8/site-packages (from mlflow) (3.1.27)\n",
      "Requirement already satisfied: querystring-parser<2 in /home/clement/anaconda3/envs/pythae/lib/python3.8/site-packages (from mlflow) (1.2.4)\n",
      "Requirement already satisfied: importlib-metadata!=4.7.0,<5,>=3.7.0 in /home/clement/anaconda3/envs/pythae/lib/python3.8/site-packages (from mlflow) (4.11.3)\n",
      "Requirement already satisfied: packaging<22 in /home/clement/anaconda3/envs/pythae/lib/python3.8/site-packages (from mlflow) (21.0)\n",
      "Requirement already satisfied: Flask<3 in /home/clement/anaconda3/envs/pythae/lib/python3.8/site-packages (from mlflow) (2.2.2)\n",
      "Requirement already satisfied: databricks-cli<1,>=0.8.7 in /home/clement/anaconda3/envs/pythae/lib/python3.8/site-packages (from mlflow) (0.17.3)\n",
      "Requirement already satisfied: protobuf<5,>=3.12.0 in /home/clement/anaconda3/envs/pythae/lib/python3.8/site-packages (from mlflow) (3.19.4)\n",
      "Requirement already satisfied: pytz<2023 in /home/clement/anaconda3/envs/pythae/lib/python3.8/site-packages (from mlflow) (2021.3)\n",
      "Requirement already satisfied: sqlalchemy<2,>=1.4.0 in /home/clement/anaconda3/envs/pythae/lib/python3.8/site-packages (from mlflow) (1.4.40)\n",
      "Requirement already satisfied: numpy<2 in /home/clement/anaconda3/envs/pythae/lib/python3.8/site-packages (from mlflow) (1.19.5)\n",
      "Requirement already satisfied: alembic<2 in /home/clement/anaconda3/envs/pythae/lib/python3.8/site-packages (from mlflow) (1.8.1)\n",
      "Requirement already satisfied: requests<3,>=2.17.3 in /home/clement/anaconda3/envs/pythae/lib/python3.8/site-packages (from mlflow) (2.26.0)\n",
      "Requirement already satisfied: pyyaml<7,>=5.1 in /home/clement/anaconda3/envs/pythae/lib/python3.8/site-packages (from mlflow) (6.0)\n",
      "Requirement already satisfied: pandas<2 in /home/clement/anaconda3/envs/pythae/lib/python3.8/site-packages (from mlflow) (1.4.0)\n",
      "Requirement already satisfied: sqlparse<1,>=0.4.0 in /home/clement/anaconda3/envs/pythae/lib/python3.8/site-packages (from mlflow) (0.4.2)\n",
      "Requirement already satisfied: prometheus-flask-exporter<1 in /home/clement/anaconda3/envs/pythae/lib/python3.8/site-packages (from mlflow) (0.20.3)\n",
      "Requirement already satisfied: cloudpickle<3 in /home/clement/anaconda3/envs/pythae/lib/python3.8/site-packages (from mlflow) (2.1.0)\n",
      "Requirement already satisfied: click<9,>=7.0 in /home/clement/anaconda3/envs/pythae/lib/python3.8/site-packages (from mlflow) (8.0.4)\n",
      "Requirement already satisfied: Mako in /home/clement/anaconda3/envs/pythae/lib/python3.8/site-packages (from alembic<2->mlflow) (1.2.1)\n",
      "Requirement already satisfied: importlib-resources in /home/clement/anaconda3/envs/pythae/lib/python3.8/site-packages (from alembic<2->mlflow) (5.4.0)\n",
      "Requirement already satisfied: pyjwt>=1.7.0 in /home/clement/anaconda3/envs/pythae/lib/python3.8/site-packages (from databricks-cli<1,>=0.8.7->mlflow) (2.4.0)\n",
      "Requirement already satisfied: oauthlib>=3.1.0 in /home/clement/anaconda3/envs/pythae/lib/python3.8/site-packages (from databricks-cli<1,>=0.8.7->mlflow) (3.2.0)\n",
      "Requirement already satisfied: tabulate>=0.7.7 in /home/clement/anaconda3/envs/pythae/lib/python3.8/site-packages (from databricks-cli<1,>=0.8.7->mlflow) (0.8.10)\n",
      "Requirement already satisfied: six>=1.10.0 in /home/clement/anaconda3/envs/pythae/lib/python3.8/site-packages (from databricks-cli<1,>=0.8.7->mlflow) (1.15.0)\n",
      "Requirement already satisfied: websocket-client>=0.32.0 in /home/clement/anaconda3/envs/pythae/lib/python3.8/site-packages (from docker<6,>=4.0.0->mlflow) (1.4.0)\n",
      "Requirement already satisfied: Werkzeug>=2.2.2 in /home/clement/anaconda3/envs/pythae/lib/python3.8/site-packages (from Flask<3->mlflow) (2.2.2)\n",
      "Requirement already satisfied: Jinja2>=3.0 in /home/clement/anaconda3/envs/pythae/lib/python3.8/site-packages (from Flask<3->mlflow) (3.0.3)\n",
      "Requirement already satisfied: itsdangerous>=2.0 in /home/clement/anaconda3/envs/pythae/lib/python3.8/site-packages (from Flask<3->mlflow) (2.1.2)\n",
      "Requirement already satisfied: gitdb<5,>=4.0.1 in /home/clement/anaconda3/envs/pythae/lib/python3.8/site-packages (from gitpython<4,>=2.1.0->mlflow) (4.0.9)\n",
      "Requirement already satisfied: smmap<6,>=3.0.1 in /home/clement/anaconda3/envs/pythae/lib/python3.8/site-packages (from gitdb<5,>=4.0.1->gitpython<4,>=2.1.0->mlflow) (5.0.0)\n",
      "Requirement already satisfied: setuptools>=3.0 in /home/clement/anaconda3/envs/pythae/lib/python3.8/site-packages (from gunicorn<21->mlflow) (58.0.4)\n",
      "Requirement already satisfied: zipp>=0.5 in /home/clement/anaconda3/envs/pythae/lib/python3.8/site-packages (from importlib-metadata!=4.7.0,<5,>=3.7.0->mlflow) (3.6.0)\n",
      "Requirement already satisfied: MarkupSafe>=2.0 in /home/clement/anaconda3/envs/pythae/lib/python3.8/site-packages (from Jinja2>=3.0->Flask<3->mlflow) (2.1.1)\n",
      "Requirement already satisfied: pyparsing>=2.0.2 in /home/clement/anaconda3/envs/pythae/lib/python3.8/site-packages (from packaging<22->mlflow) (2.4.7)\n",
      "Requirement already satisfied: python-dateutil>=2.8.1 in /home/clement/anaconda3/envs/pythae/lib/python3.8/site-packages (from pandas<2->mlflow) (2.8.2)\n",
      "Requirement already satisfied: prometheus-client in /home/clement/anaconda3/envs/pythae/lib/python3.8/site-packages (from prometheus-flask-exporter<1->mlflow) (0.12.0)\n",
      "Requirement already satisfied: certifi>=2017.4.17 in /home/clement/anaconda3/envs/pythae/lib/python3.8/site-packages (from requests<3,>=2.17.3->mlflow) (2021.10.8)\n",
      "Requirement already satisfied: idna<4,>=2.5 in /home/clement/anaconda3/envs/pythae/lib/python3.8/site-packages (from requests<3,>=2.17.3->mlflow) (3.3)\n",
      "Requirement already satisfied: urllib3<1.27,>=1.21.1 in /home/clement/anaconda3/envs/pythae/lib/python3.8/site-packages (from requests<3,>=2.17.3->mlflow) (1.26.7)\n",
      "Requirement already satisfied: charset-normalizer~=2.0.0 in /home/clement/anaconda3/envs/pythae/lib/python3.8/site-packages (from requests<3,>=2.17.3->mlflow) (2.0.7)\n",
      "Requirement already satisfied: greenlet!=0.4.17 in /home/clement/anaconda3/envs/pythae/lib/python3.8/site-packages (from sqlalchemy<2,>=1.4.0->mlflow) (1.1.3)\n"
     ]
    }
   ],
   "source": [
    "# Before being allowed to monitor your experiments you may need to run the following\n",
    "#!pip install mlflow"
   ]
  },
  {
   "cell_type": "code",
   "execution_count": 33,
   "metadata": {},
   "outputs": [],
   "source": [
    "# Create you callback\n",
    "from pythae.trainers.training_callbacks import MLFlowCallback\n",
    "\n",
    "callbacks = [] # the TrainingPipeline expects a list of callbacks\n",
    "\n",
    "mlflow_cb = MLFlowCallback() # Build the callback \n",
    "\n",
    "# SetUp the callback \n",
    "mlflow_cb.setup(\n",
    "    training_config=training_config, # training config\n",
    "    model_config=model_config, # model config\n",
    "    run_name=\"mlflow_cb_example\", # specify your wandb project\n",
    ")\n",
    "\n",
    "callbacks.append(mlflow_cb) # Add it to the callbacks list"
   ]
  },
  {
   "cell_type": "code",
   "execution_count": 34,
   "metadata": {},
   "outputs": [],
   "source": [
    "pipeline = TrainingPipeline(\n",
    "    training_config=training_config,\n",
    "    model=model\n",
    ")"
   ]
  },
  {
   "cell_type": "code",
   "execution_count": 35,
   "metadata": {},
   "outputs": [
    {
     "name": "stderr",
     "output_type": "stream",
     "text": [
      "Preprocessing train data...\n",
      "Preprocessing eval data...\n",
      "\n",
      "Using Base Trainer\n",
      "\n",
      "Model passed sanity check !\n",
      "\n",
      "Created my_model/BetaVAE_training_2022-08-29_10-43-48. \n",
      "Training config, checkpoints and final model will be saved here.\n",
      "\n",
      "Successfully launched training !\n",
      "\n"
     ]
    },
    {
     "data": {
      "application/vnd.jupyter.widget-view+json": {
       "model_id": "ef4bb282114d4914a95f183f1478b72b",
       "version_major": 2,
       "version_minor": 0
      },
      "text/plain": [
       "Training of epoch 1/5:   0%|          | 0/500 [00:00<?, ?batch/s]"
      ]
     },
     "metadata": {},
     "output_type": "display_data"
    },
    {
     "data": {
      "application/vnd.jupyter.widget-view+json": {
       "model_id": "b851d8788e554d85a8dd278084db3667",
       "version_major": 2,
       "version_minor": 0
      },
      "text/plain": [
       "Eval of epoch 1/5:   0%|          | 0/100 [00:00<?, ?batch/s]"
      ]
     },
     "metadata": {},
     "output_type": "display_data"
    },
    {
     "name": "stderr",
     "output_type": "stream",
     "text": [
      "--------------------------------------------------------------------------\n",
      "Train loss: 44.2825\n",
      "Eval loss: 40.3788\n",
      "--------------------------------------------------------------------------\n"
     ]
    },
    {
     "data": {
      "application/vnd.jupyter.widget-view+json": {
       "model_id": "9d43453a59864e71a19186c75bba8ce1",
       "version_major": 2,
       "version_minor": 0
      },
      "text/plain": [
       "Training of epoch 2/5:   0%|          | 0/500 [00:00<?, ?batch/s]"
      ]
     },
     "metadata": {},
     "output_type": "display_data"
    },
    {
     "data": {
      "application/vnd.jupyter.widget-view+json": {
       "model_id": "a8c1c49897f5478984167aeb00ebb89a",
       "version_major": 2,
       "version_minor": 0
      },
      "text/plain": [
       "Eval of epoch 2/5:   0%|          | 0/100 [00:00<?, ?batch/s]"
      ]
     },
     "metadata": {},
     "output_type": "display_data"
    },
    {
     "name": "stderr",
     "output_type": "stream",
     "text": [
      "--------------------------------------------------------------------------\n",
      "Train loss: 40.1\n",
      "Eval loss: 39.1482\n",
      "--------------------------------------------------------------------------\n"
     ]
    },
    {
     "data": {
      "application/vnd.jupyter.widget-view+json": {
       "model_id": "69417b6f984443a0be9b658bf62fb1b2",
       "version_major": 2,
       "version_minor": 0
      },
      "text/plain": [
       "Training of epoch 3/5:   0%|          | 0/500 [00:00<?, ?batch/s]"
      ]
     },
     "metadata": {},
     "output_type": "display_data"
    },
    {
     "data": {
      "application/vnd.jupyter.widget-view+json": {
       "model_id": "bad97a9ea8304706a471a36f28b1c3b9",
       "version_major": 2,
       "version_minor": 0
      },
      "text/plain": [
       "Eval of epoch 3/5:   0%|          | 0/100 [00:00<?, ?batch/s]"
      ]
     },
     "metadata": {},
     "output_type": "display_data"
    },
    {
     "name": "stderr",
     "output_type": "stream",
     "text": [
      "--------------------------------------------------------------------------\n",
      "Train loss: 39.2773\n",
      "Eval loss: 38.6415\n",
      "--------------------------------------------------------------------------\n"
     ]
    },
    {
     "data": {
      "application/vnd.jupyter.widget-view+json": {
       "model_id": "a8d022e2c569451cb8e5071614d3eb42",
       "version_major": 2,
       "version_minor": 0
      },
      "text/plain": [
       "Training of epoch 4/5:   0%|          | 0/500 [00:00<?, ?batch/s]"
      ]
     },
     "metadata": {},
     "output_type": "display_data"
    },
    {
     "data": {
      "application/vnd.jupyter.widget-view+json": {
       "model_id": "11c48cb11b294478a850cee2cd584a7e",
       "version_major": 2,
       "version_minor": 0
      },
      "text/plain": [
       "Eval of epoch 4/5:   0%|          | 0/100 [00:00<?, ?batch/s]"
      ]
     },
     "metadata": {},
     "output_type": "display_data"
    },
    {
     "name": "stderr",
     "output_type": "stream",
     "text": [
      "--------------------------------------------------------------------------\n",
      "Train loss: 38.8512\n",
      "Eval loss: 38.3104\n",
      "--------------------------------------------------------------------------\n"
     ]
    },
    {
     "data": {
      "application/vnd.jupyter.widget-view+json": {
       "model_id": "383a68628a2e44dd9434cde872d20bd7",
       "version_major": 2,
       "version_minor": 0
      },
      "text/plain": [
       "Training of epoch 5/5:   0%|          | 0/500 [00:00<?, ?batch/s]"
      ]
     },
     "metadata": {},
     "output_type": "display_data"
    },
    {
     "data": {
      "application/vnd.jupyter.widget-view+json": {
       "model_id": "a49318eb60ec41d995ba054099ffc369",
       "version_major": 2,
       "version_minor": 0
      },
      "text/plain": [
       "Eval of epoch 5/5:   0%|          | 0/100 [00:00<?, ?batch/s]"
      ]
     },
     "metadata": {},
     "output_type": "display_data"
    },
    {
     "name": "stderr",
     "output_type": "stream",
     "text": [
      "--------------------------------------------------------------------------\n",
      "Train loss: 38.5628\n",
      "Eval loss: 38.082\n",
      "--------------------------------------------------------------------------\n",
      "Training ended!\n",
      "Saved final model in my_model/BetaVAE_training_2022-08-29_10-43-48/final_model\n"
     ]
    }
   ],
   "source": [
    "pipeline(\n",
    "    train_data=train_dataset,\n",
    "    eval_data=eval_dataset,\n",
    "    callbacks=callbacks # pass the callbacks to the TrainingPipeline and you are done!\n",
    ")"
   ]
  },
  {
   "cell_type": "code",
   "execution_count": null,
   "metadata": {},
   "outputs": [],
   "source": [
    "# You can comapre"
   ]
  }
 ],
 "metadata": {
  "interpreter": {
   "hash": "3efa06c4da850a09a4898b773c7e91b0da3286dbbffa369a8099a14a8fa43098"
  },
  "kernelspec": {
   "display_name": "Python 3.8.11 64-bit ('pythae_dev': conda)",
   "name": "python3"
  },
  "language_info": {
   "codemirror_mode": {
    "name": "ipython",
    "version": 3
   },
   "file_extension": ".py",
   "mimetype": "text/x-python",
   "name": "python",
   "nbconvert_exporter": "python",
   "pygments_lexer": "ipython3",
   "version": "3.8.12"
  },
  "orig_nbformat": 4
 },
 "nbformat": 4,
 "nbformat_minor": 2
}
