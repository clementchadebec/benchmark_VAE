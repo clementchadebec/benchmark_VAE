{
 "cells": [
  {
   "cell_type": "markdown",
   "metadata": {},
   "source": [
    "# Tutorial - MLFlow experiements monitoring\n",
    "\n",
    "In this notebook, we will see how to smonitor your experiments using the integrated **mlflow** callbacks."
   ]
  },
  {
   "cell_type": "code",
   "execution_count": 1,
   "metadata": {},
   "outputs": [
    {
     "name": "stdout",
     "output_type": "stream",
     "text": [
      "Requirement already satisfied: pythae in /home/clement/Documents/these/implem/benchmark_VAE/src (0.0.6)\n",
      "Requirement already satisfied: cloudpickle>=2.1.0 in /home/clement/anaconda3/envs/pythae_dev/lib/python3.8/site-packages (from pythae) (2.1.0)\n",
      "Requirement already satisfied: imageio in /home/clement/anaconda3/envs/pythae_dev/lib/python3.8/site-packages (from pythae) (2.9.0)\n",
      "Requirement already satisfied: numpy>=1.19 in /home/clement/anaconda3/envs/pythae_dev/lib/python3.8/site-packages (from pythae) (1.21.2)\n",
      "Requirement already satisfied: pydantic>=1.8.2 in /home/clement/anaconda3/envs/pythae_dev/lib/python3.8/site-packages (from pythae) (1.8.2)\n",
      "Requirement already satisfied: sklearn in /home/clement/anaconda3/envs/pythae_dev/lib/python3.8/site-packages (from pythae) (0.0)\n",
      "Requirement already satisfied: scipy>=1.7.1 in /home/clement/anaconda3/envs/pythae_dev/lib/python3.8/site-packages (from pythae) (1.7.1)\n",
      "Requirement already satisfied: torch>=1.10.1 in /home/clement/anaconda3/envs/pythae_dev/lib/python3.8/site-packages (from pythae) (1.12.0)\n",
      "Requirement already satisfied: tqdm in /home/clement/anaconda3/envs/pythae_dev/lib/python3.8/site-packages (from pythae) (4.62.3)\n",
      "Requirement already satisfied: typing_extensions in /home/clement/anaconda3/envs/pythae_dev/lib/python3.8/site-packages (from pythae) (4.2.0)\n",
      "Requirement already satisfied: dataclasses>=0.6 in /home/clement/anaconda3/envs/pythae_dev/lib/python3.8/site-packages (from pythae) (0.6)\n",
      "Requirement already satisfied: pickle5 in /home/clement/anaconda3/envs/pythae_dev/lib/python3.8/site-packages (from pythae) (0.0.11)\n",
      "Requirement already satisfied: pillow in /home/clement/anaconda3/envs/pythae_dev/lib/python3.8/site-packages (from imageio->pythae) (8.3.2)\n",
      "Requirement already satisfied: scikit-learn in /home/clement/anaconda3/envs/pythae_dev/lib/python3.8/site-packages (from sklearn->pythae) (1.0)\n",
      "Requirement already satisfied: threadpoolctl>=2.0.0 in /home/clement/anaconda3/envs/pythae_dev/lib/python3.8/site-packages (from scikit-learn->sklearn->pythae) (3.0.0)\n",
      "Requirement already satisfied: joblib>=0.11 in /home/clement/anaconda3/envs/pythae_dev/lib/python3.8/site-packages (from scikit-learn->sklearn->pythae) (1.1.0)\n",
      "Note: you may need to restart the kernel to use updated packages.\n"
     ]
    }
   ],
   "source": [
    "# Install the library\n",
    "%pip install pythae"
   ]
  },
  {
   "cell_type": "markdown",
   "metadata": {},
   "source": [
    "## Train your Pythae model"
   ]
  },
  {
   "cell_type": "code",
   "execution_count": 2,
   "metadata": {},
   "outputs": [
    {
     "name": "stderr",
     "output_type": "stream",
     "text": [
      "/home/clement/anaconda3/envs/pythae_dev/lib/python3.8/site-packages/torchvision/io/image.py:11: UserWarning: Failed to load image Python extension: /home/clement/anaconda3/envs/pythae_dev/lib/python3.8/site-packages/torchvision/image.so: undefined symbol: _ZNK3c1010TensorImpl36is_contiguous_nondefault_policy_implENS_12MemoryFormatE\n",
      "  warn(f\"Failed to load image Python extension: {e}\")\n"
     ]
    }
   ],
   "source": [
    "import torchvision.datasets as datasets\n",
    "\n",
    "%load_ext autoreload\n",
    "%autoreload 2"
   ]
  },
  {
   "cell_type": "code",
   "execution_count": 3,
   "metadata": {},
   "outputs": [],
   "source": [
    "mnist_trainset = datasets.MNIST(root='../data', train=True, download=True, transform=None)\n",
    "\n",
    "train_dataset = mnist_trainset.data[:-10000].reshape(-1, 1, 28, 28) / 255.\n",
    "eval_dataset = mnist_trainset.data[-10000:].reshape(-1, 1, 28, 28) / 255."
   ]
  },
  {
   "cell_type": "code",
   "execution_count": 4,
   "metadata": {},
   "outputs": [],
   "source": [
    "from pythae.models import BetaVAE, BetaVAEConfig\n",
    "from pythae.trainers import BaseTrainerConfig\n",
    "from pythae.pipelines.training import TrainingPipeline\n",
    "from pythae.models.nn.benchmarks.mnist import Encoder_ResNet_VAE_MNIST, Decoder_ResNet_AE_MNIST"
   ]
  },
  {
   "cell_type": "code",
   "execution_count": 5,
   "metadata": {},
   "outputs": [],
   "source": [
    "training_config = BaseTrainerConfig(\n",
    "    output_dir='my_model',\n",
    "    learning_rate=1e-4,\n",
    "    batch_size=100,\n",
    "    num_epochs=10, # Change this to train the model a bit more\n",
    ")\n",
    "\n",
    "\n",
    "model_config = BetaVAEConfig(\n",
    "    input_dim=(1, 28, 28),\n",
    "    latent_dim=16,\n",
    "    beta=2.\n",
    "\n",
    ")\n",
    "\n",
    "model = BetaVAE(\n",
    "    model_config=model_config,\n",
    "    encoder=Encoder_ResNet_VAE_MNIST(model_config), \n",
    "    decoder=Decoder_ResNet_AE_MNIST(model_config) \n",
    ")"
   ]
  },
  {
   "cell_type": "markdown",
   "metadata": {},
   "source": [
    "## Before lauching the pipeline, you will need to build your `MLFLowCallback`\n",
    "\n",
    "To be able to access this feature you will need:\n",
    "- the `mlflow` package installed in your virtual env. You can install it by running (`pip install mlflow`)"
   ]
  },
  {
   "cell_type": "code",
   "execution_count": 6,
   "metadata": {},
   "outputs": [],
   "source": [
    "# Before being allowed to monitor your experiments you may need to run the following\n",
    "#!pip install mlflow"
   ]
  },
  {
   "cell_type": "code",
   "execution_count": 7,
   "metadata": {},
   "outputs": [
    {
     "name": "stdout",
     "output_type": "stream",
     "text": [
      "MLflow run started with run_id=8a40983e813249afa8a9f766ca5bc939\n"
     ]
    }
   ],
   "source": [
    "# Create you callback\n",
    "from pythae.trainers.training_callbacks import MLFlowCallback\n",
    "\n",
    "callbacks = [] # the TrainingPipeline expects a list of callbacks\n",
    "\n",
    "mlflow_cb = MLFlowCallback() # Build the callback \n",
    "\n",
    "# SetUp the callback \n",
    "mlflow_cb.setup(\n",
    "    training_config=training_config, # training config\n",
    "    model_config=model_config, # model config\n",
    "    run_name=\"mlflow_cb_example\", # specify your wandb project\n",
    ")\n",
    "\n",
    "callbacks.append(mlflow_cb) # Add it to the callbacks list"
   ]
  },
  {
   "cell_type": "code",
   "execution_count": null,
   "metadata": {},
   "outputs": [],
   "source": [
    "pipeline = TrainingPipeline(\n",
    "    training_config=training_config,\n",
    "    model=model\n",
    ")"
   ]
  },
  {
   "cell_type": "code",
   "execution_count": null,
   "metadata": {},
   "outputs": [],
   "source": [
    "pipeline(\n",
    "    train_data=train_dataset,\n",
    "    eval_data=eval_dataset,\n",
    "    callbacks=callbacks # pass the callbacks to the TrainingPipeline and you are done!\n",
    ")"
   ]
  },
  {
   "cell_type": "code",
   "execution_count": null,
   "metadata": {},
   "outputs": [],
   "source": [
    "import mlflow\n",
    "mlflow.end_run()"
   ]
  },
  {
   "cell_type": "code",
   "execution_count": null,
   "metadata": {},
   "outputs": [],
   "source": []
  }
 ],
 "metadata": {
  "interpreter": {
   "hash": "3efa06c4da850a09a4898b773c7e91b0da3286dbbffa369a8099a14a8fa43098"
  },
  "kernelspec": {
   "display_name": "Python 3.8.11 64-bit ('pythae_dev': conda)",
   "name": "python3"
  },
  "language_info": {
   "codemirror_mode": {
    "name": "ipython",
    "version": 3
   },
   "file_extension": ".py",
   "mimetype": "text/x-python",
   "name": "python",
   "nbconvert_exporter": "python",
   "pygments_lexer": "ipython3",
   "version": "3.8.13"
  },
  "orig_nbformat": 4
 },
 "nbformat": 4,
 "nbformat_minor": 2
}
